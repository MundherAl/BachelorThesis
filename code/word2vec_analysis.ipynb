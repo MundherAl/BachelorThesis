{
 "cells": [
  {
   "cell_type": "code",
   "execution_count": 31,
   "metadata": {},
   "outputs": [],
   "source": [
    "import gensim\n",
    "from gensim.models import Word2Vec\n",
    "import numpy as np\n",
    "import pandas as pd\n",
    "import matplotlib.pyplot as plt\n",
    "\n",
    "\n",
    "data = pd.read_csv('data/preprocessed_stories.csv', header=None, names=['story'])\n",
    "\n",
    "# tokenize data\n",
    "tokenized_data = data.story.apply(lambda x: x.split())\n",
    "tokenized_data\n",
    "\n",
    "# train word2vec model\n",
    "model = Word2Vec(tokenized_data, hs=1, negative=0)"
   ]
  },
  {
   "cell_type": "code",
   "execution_count": 20,
   "metadata": {},
   "outputs": [
    {
     "data": {
      "text/plain": [
       "0       [accepted, friend, request, facebook, common, ...\n",
       "1       [whatsapp, message, good, morning, baron, ya, ...\n",
       "2       [met, alan, bumble, claimed, project, manager,...\n",
       "3       [connected, person, named, ano, cab, app, june...\n",
       "4       [person, online, name, june, lee, initially, c...\n",
       "                              ...                        \n",
       "3484    [deceived, look, like, got, hypnosis, send, fa...\n",
       "3485    [linked, lady, called, xue, er, made, appointm...\n",
       "3486    [online, platform, real, trading, platform, kn...\n",
       "3487    [long, story, short, ive, known, guy, name, ri...\n",
       "3488    [investigative, journalist, research, sugar, m...\n",
       "Name: story, Length: 3489, dtype: object"
      ]
     },
     "execution_count": 20,
     "metadata": {},
     "output_type": "execute_result"
    }
   ],
   "source": [
    "tokenized_data"
   ]
  },
  {
   "cell_type": "code",
   "execution_count": 34,
   "metadata": {},
   "outputs": [
    {
     "data": {
      "text/plain": [
       "-780.75116"
      ]
     },
     "execution_count": 34,
     "metadata": {},
     "output_type": "execute_result"
    }
   ],
   "source": [
    "model.score(tokenized_data)[2]"
   ]
  }
 ],
 "metadata": {
  "kernelspec": {
   "display_name": "Python 3",
   "language": "python",
   "name": "python3"
  },
  "language_info": {
   "codemirror_mode": {
    "name": "ipython",
    "version": 3
   },
   "file_extension": ".py",
   "mimetype": "text/x-python",
   "name": "python",
   "nbconvert_exporter": "python",
   "pygments_lexer": "ipython3",
   "version": "3.10.6"
  },
  "orig_nbformat": 4
 },
 "nbformat": 4,
 "nbformat_minor": 2
}
