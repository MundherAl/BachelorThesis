{
 "cells": [
  {
   "cell_type": "code",
   "execution_count": 1,
   "metadata": {},
   "outputs": [],
   "source": [
    "import pandas as pd\n",
    "\n",
    "df = pd.read_json('data/pages.json')"
   ]
  },
  {
   "cell_type": "code",
   "execution_count": 6,
   "metadata": {},
   "outputs": [
    {
     "data": {
      "text/plain": [
       "[{'Slug': 'car-rental-scam', 'Name': 'Car Rental Scam'},\n",
       " {'Slug': 'cold-call-supplier-scam', 'Name': 'Cold Call Supplier Scam'},\n",
       " {'Slug': 'credit-for-sex-scam', 'Name': 'Credit-for-Sex Scam'},\n",
       " {'Slug': 'cyber-extortion-scam', 'Name': 'Cyber Extortion Scam'},\n",
       " {'Slug': 'home-room-rental-scam', 'Name': 'Home/Room Rental Scam'},\n",
       " {'Slug': 'impersonation-scam', 'Name': 'Impersonation Scam'},\n",
       " {'Slug': 'inheritance-scam', 'Name': 'Inheritance Scam'},\n",
       " {'Slug': 'internet-love-scam', 'Name': 'Internet Love Scam'},\n",
       " {'Slug': 'investment-scam', 'Name': 'Investment Scam'},\n",
       " {'Slug': 'job-scam', 'Name': 'Job Scam'},\n",
       " {'Slug': 'kidnap-scam', 'Name': 'Kidnap Scam'},\n",
       " {'Slug': 'loan-scam', 'Name': 'Loan Scam'},\n",
       " {'Slug': 'lottery-scam', 'Name': 'Lottery Scam'},\n",
       " {'Slug': 'money-mule-scam', 'Name': 'Money Mule Scam'},\n",
       " {'Slug': 'online-purchase-scam', 'Name': 'Online Purchase Scam'},\n",
       " {'Slug': 'online-travel-vacation-scam',\n",
       "  'Name': 'Online Travel Vacation Scam'},\n",
       " {'Slug': 'paypal-email-scam', 'Name': 'PayPal Email Scam'},\n",
       " {'Slug': 'phishing-scam', 'Name': 'Phishing Scam'},\n",
       " {'Slug': 'scam-using-wechat', 'Name': 'Scam Using WeChat'},\n",
       " {'Slug': 'social-media-whatsapp-scam',\n",
       "  'Name': 'Social Media Impersonation / Whatsapp Takeover Scam'},\n",
       " {'Slug': 'software-update-scam', 'Name': 'Software Update Scam'},\n",
       " {'Slug': 'spoofed-hacked-email-scam', 'Name': 'Spoofed/Hacked Email Scam'},\n",
       " {'Slug': 'wangiri-scam', 'Name': 'Wangiri Scam'}]"
      ]
     },
     "execution_count": 6,
     "metadata": {},
     "output_type": "execute_result"
    }
   ],
   "source": [
    "df['ScamTypeList'][1]"
   ]
  }
 ],
 "metadata": {
  "kernelspec": {
   "display_name": "Python 3",
   "language": "python",
   "name": "python3"
  },
  "language_info": {
   "codemirror_mode": {
    "name": "ipython",
    "version": 3
   },
   "file_extension": ".py",
   "mimetype": "text/x-python",
   "name": "python",
   "nbconvert_exporter": "python",
   "pygments_lexer": "ipython3",
   "version": "3.10.6"
  },
  "orig_nbformat": 4
 },
 "nbformat": 4,
 "nbformat_minor": 2
}
