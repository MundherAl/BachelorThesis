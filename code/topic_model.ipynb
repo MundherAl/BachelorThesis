{
 "cells": [
  {
   "cell_type": "code",
   "execution_count": 1,
   "metadata": {},
   "outputs": [],
   "source": [
    "import pandas as pd\n",
    "\n",
    "# Prepocessing libraries\n",
    "import emoji\n",
    "import re\n",
    "from langdetect import detect\n",
    "from spellchecker import SpellChecker\n",
    "import string\n",
    "from nltk.corpus import stopwords\n",
    "from nltk.tokenize import WordPunctTokenizer\n",
    "from nltk.stem.wordnet import WordNetLemmatizer\n",
    "\n",
    "def detect_lang(text):\n",
    "    \"\"\"\n",
    "    Detects the language of a story.\n",
    "\n",
    "    Parameters\n",
    "    ----------\n",
    "    text : str\n",
    "        The story to be processed.\n",
    "    Returns\n",
    "    -------\n",
    "    lang : str\n",
    "        The language of the story.\n",
    "    \"\"\"\n",
    "    try:\n",
    "        return detect(text)\n",
    "    except:\n",
    "        return 'unknown'\n",
    "    \n",
    "stop_words = set(stopwords.words('english'))\n",
    "punc = set(string.punctuation)\n",
    "lemma = WordNetLemmatizer()\n",
    "tokenizer = WordPunctTokenizer()\n",
    "spellcheck = SpellChecker()\n",
    "\n",
    "def preprocess(text):\n",
    "    \"\"\"\n",
    "    Preprocesses a story by removing emojis, punctuations, stopwords, spellchecking and lemmatizing the words.\n",
    "\n",
    "    Parameters\n",
    "    ----------\n",
    "    text : str\n",
    "        The story to be preprocessed.\n",
    "    Returns\n",
    "    -------\n",
    "    processed_text : str\n",
    "        The preprocessed story.\n",
    "    \"\"\"\n",
    "\n",
    "    # regex to replace all consecutive occurences of punctuations with a single punctuation\n",
    "    pattern = r'([' + re.escape(''.join(punc)) + r'])\\1+'\n",
    "    text = re.sub(pattern, r'\\1', ''.join(text))\n",
    "\n",
    "    # regex to remove all numbers\n",
    "    text = re.sub(r'\\d+', '', text)\n",
    "\n",
    "    # tokenize the text\n",
    "    tokens = tokenizer.tokenize(text.lower())\n",
    "    # remove stopwords, punctuations, emojis, correct and lemmatize the words\n",
    "    tokens = [spellcheck.correction(token) for token in tokens]\n",
    "    tokens = [token for token in tokens if emoji.is_emoji(token) == False]\n",
    "    tokens = [token for token in tokens if token not in stop_words]\n",
    "    tokens = [token for token in tokens if token not in punc]\n",
    "    tokens = [lemma.lemmatize(token) for token in tokens if token]\n",
    "\n",
    "    processed_text = ' '.join(tokens)\n",
    "    return processed_text\n",
    "\n",
    "def preprocess_without_lemmatizing(text):\n",
    "    \"\"\"\n",
    "    Preprocesses a story by removing emojis, punctuations, stopwords, spellchecking the words.\n",
    "\n",
    "    Parameters\n",
    "    ----------\n",
    "    text : str\n",
    "        The story to be preprocessed.\n",
    "    Returns\n",
    "    -------\n",
    "    processed_text : str\n",
    "        The preprocessed story.\n",
    "    \"\"\"\n",
    "\n",
    "    # regex to replace all consecutive occurences of punctuations with a single punctuation\n",
    "    pattern = r'([' + re.escape(''.join(punc)) + r'])\\1+'\n",
    "    text = re.sub(pattern, r'\\1', ''.join(text))\n",
    "\n",
    "    # regex to remove all numbers\n",
    "    text = re.sub(r'\\d+', '', text)\n",
    "\n",
    "    # tokenize the text\n",
    "    tokens = tokenizer.tokenize(text.lower())\n",
    "    # remove stopwords, punctuations, emojis, correct and lemmatize the words\n",
    "    tokens = [spellcheck.correction(token) for token in tokens]\n",
    "    tokens = [token for token in tokens if emoji.is_emoji(token) == False]\n",
    "    tokens = [token for token in tokens if token not in stop_words]\n",
    "    tokens = [token for token in tokens if token not in punc]\n",
    "    tokens = [token for token in tokens if token]\n",
    "\n",
    "    processed_text = ' '.join(tokens)\n",
    "    return processed_text"
   ]
  },
  {
   "cell_type": "code",
   "execution_count": 2,
   "metadata": {},
   "outputs": [],
   "source": [
    "# read the data\n",
    "file = open(\"data/stories.csv\", \"r\")\n",
    "stories_array = []\n",
    "\n",
    "for line in file:\n",
    "    stories_array.append(line)\n",
    "\n",
    "file.close()\n",
    "\n",
    "data = pd.DataFrame(stories_array, columns=['story'])"
   ]
  },
  {
   "attachments": {},
   "cell_type": "markdown",
   "metadata": {},
   "source": [
    "Demo: `preprocess()` on a story"
   ]
  },
  {
   "cell_type": "code",
   "execution_count": 3,
   "metadata": {},
   "outputs": [
    {
     "name": "stdout",
     "output_type": "stream",
     "text": [
      "I am an investigative journalist and did a research on the Sugar Mummy scam circus in Singapore. They all operate the same way. No one is what they say they are. I contacted 6 of the agents on Locanto and other sites via WhatsApp and they were all scammers. They might change names but one thing is for 100% sure. You will be scammed! Basically they have a pre-paid phone card with a generic profile photo. They all asure you they are not scammers. After giving them you name, age and civil status they will ask for 300-500 SGDs for a fee. They only accept bank transfer. Then when you have payed this they ask for 1400-1900 SGD for further fees and insurance. They promise you a BMW and a monthly salary of at least 10500 SGD and so on. My conclusion is \"DON´T PAY ANYTHING\" They are all scammers/fraudsters/liers. Don´t fall for any sweet talk or promises, you will be fooled and no sugar mummy is at the end of the rainbow. No matter who they say they are or that they have lots of clients that recommend them, nothing they say is true. The old saying goes: -How can you tell a scammer is lying? Their lips move... My investigation is complete and I am willing to hand it over to the SPF for further handling. BE AWARE! All suger mummy agents ARE SCAMMERS!\n",
      "\n",
      "investigative journalist research sugar mummy scam circus singapore operate way one say contacted agent locate site via whatsapp scammer might change name one thing sure scammed basically pre paid phone card generic profile photo sure scammer giving name age civil status ask sod fee accept bank transfer played ask sad fee insurance promise bow monthly salary least sad conclusion pay anything scammer fraudster lie fall sweet talk promise fooled sugar mummy end rainbow matter say lot client recommend nothing say true old saying go tell scammer lying lip move investigation complete willing hand spy handling aware super mummy agent scammer\n"
     ]
    }
   ],
   "source": [
    "print(data['story'][3494])\n",
    "print(preprocess(data['story'][3494]))"
   ]
  },
  {
   "attachments": {},
   "cell_type": "markdown",
   "metadata": {},
   "source": [
    "#### Data preprocessing"
   ]
  },
  {
   "cell_type": "code",
   "execution_count": 4,
   "metadata": {},
   "outputs": [],
   "source": [
    "# add language column\n",
    "data[\"language\"] = data[\"story\"].apply(detect_lang)\n",
    "\n",
    "# filter out non-english stories\n",
    "data = data[data[\"language\"] == \"en\"]\n",
    "\n",
    "# drop language column\n",
    "data = data.drop(columns=[\"language\"])"
   ]
  },
  {
   "attachments": {},
   "cell_type": "markdown",
   "metadata": {},
   "source": [
    "Test processing on dataframe of 5 stories"
   ]
  },
  {
   "cell_type": "code",
   "execution_count": 5,
   "metadata": {},
   "outputs": [
    {
     "name": "stderr",
     "output_type": "stream",
     "text": [
      "/usr/local/lib/python3.10/dist-packages/tqdm/auto.py:21: TqdmWarning: IProgress not found. Please update jupyter and ipywidgets. See https://ipywidgets.readthedocs.io/en/stable/user_install.html\n",
      "  from .autonotebook import tqdm as notebook_tqdm\n",
      "Preprocessing stories: 100%|\u001b[38;2;255;170;255m██████████\u001b[0m| 5/5 [00:01<00:00,  4.06it/s]\n"
     ]
    },
    {
     "data": {
      "text/plain": [
       "0    accepted friend request facebook common friend...\n",
       "1    whatsapp message good morning baron ya receive...\n",
       "2    met alan bumble claimed project manager synerg...\n",
       "3    connected person named ano cab app june normal...\n",
       "4    person online name june lee initially contacte...\n",
       "Name: story, dtype: object"
      ]
     },
     "execution_count": 5,
     "metadata": {},
     "output_type": "execute_result"
    }
   ],
   "source": [
    "from tqdm.auto import tqdm # to show progress bar while iterating over the stories\n",
    "\n",
    "tqdm.pandas(desc=\"Preprocessing stories\", colour='#ffaaff')\n",
    "data[\"story\"][0:5].progress_apply(preprocess)"
   ]
  },
  {
   "attachments": {},
   "cell_type": "markdown",
   "metadata": {},
   "source": [
    "Preprocessing the data and saving it"
   ]
  },
  {
   "cell_type": "code",
   "execution_count": 6,
   "metadata": {},
   "outputs": [
    {
     "name": "stderr",
     "output_type": "stream",
     "text": [
      "Preprocessing stories: 100%|\u001b[38;2;255;170;255m██████████\u001b[0m| 3489/3489 [08:01<00:00,  7.25it/s]  \n"
     ]
    }
   ],
   "source": [
    "preprocessed_data = data[\"story\"].progress_apply(preprocess)\n",
    "preprocessed_data.to_csv(\"data/preprocessed_stories_lemmatized.csv\", index=False, header=False)"
   ]
  },
  {
   "attachments": {},
   "cell_type": "markdown",
   "metadata": {},
   "source": [
    "Preprocessing the data without lemmatizing and saving it"
   ]
  },
  {
   "cell_type": "code",
   "execution_count": 7,
   "metadata": {},
   "outputs": [
    {
     "name": "stderr",
     "output_type": "stream",
     "text": [
      "Preprocessing stories: 100%|\u001b[38;2;255;170;255m██████████\u001b[0m| 3489/3489 [08:10<00:00,  7.12it/s]  \n"
     ]
    }
   ],
   "source": [
    "preprocessed_data = data[\"story\"].progress_apply(preprocess_without_lemmatizing)\n",
    "preprocessed_data.to_csv(\"data/preprocessed_stories.csv\", index=False, header=False)"
   ]
  },
  {
   "attachments": {},
   "cell_type": "markdown",
   "metadata": {},
   "source": [
    "# Topic Modeling\n",
    "\n",
    "## LDA\n"
   ]
  },
  {
   "cell_type": "code",
   "execution_count": 8,
   "metadata": {},
   "outputs": [],
   "source": [
    "from sklearn.decomposition import LatentDirichletAllocation\n",
    "from sklearn.feature_extraction.text import CountVectorizer\n",
    "\n",
    "def calculate_perplexities(data, no_topics, min_df):\n",
    "\n",
    "    progress_bar = tqdm(total=no_topics, desc='Calculating Perplexities', unit='model') # to show progress bar while iterating over the number of topics\n",
    "\n",
    "    perplexities = []\n",
    "    vectorized_data = CountVectorizer(min_df=min_df).fit_transform(data)\n",
    "\n",
    "    for i in range(2, no_topics+1):\n",
    "        lda = LatentDirichletAllocation(n_components=i, random_state=0)\n",
    "        lda.fit(vectorized_data)\n",
    "        perplexities.append(lda.perplexity(vectorized_data))\n",
    "        progress_bar.update(1)\n",
    "    \n",
    "    progress_bar.close()\n",
    "    return perplexities\n",
    "\n",
    "def display_topics(model, feature_names, no_top_words):\n",
    "    topic_dict = {}\n",
    "    for topic_idx, topic in enumerate(model.components_):\n",
    "        topic_dict[\"Topic %d words\" % (topic_idx)]= ['{}'.format(feature_names[i])\n",
    "                        for i in topic.argsort()[:-no_top_words - 1:-1]]\n",
    "        topic_dict[\"Topic %d weights\" % (topic_idx)]= ['{:.1f}'.format(topic[i])\n",
    "                        for i in topic.argsort()[:-no_top_words - 1:-1]]\n",
    "    return pd.DataFrame(topic_dict)"
   ]
  },
  {
   "attachments": {},
   "cell_type": "markdown",
   "metadata": {},
   "source": [
    "In order to determine the optimal number of topics, we train LDA models with different number of topics and compute their perplexities. We then take the number of topics that gives the lowest perplexity.\n",
    "\n",
    "For LDA, we set `random_state=100` for reproducibility."
   ]
  },
  {
   "cell_type": "code",
   "execution_count": 9,
   "metadata": {},
   "outputs": [
    {
     "name": "stderr",
     "output_type": "stream",
     "text": [
      "Calculating Perplexities:   0%|          | 0/25 [00:00<?, ?model/s]"
     ]
    },
    {
     "name": "stderr",
     "output_type": "stream",
     "text": [
      "Calculating Perplexities:  96%|█████████▌| 24/25 [02:57<00:07,  7.38s/model]\n",
      "Calculating Perplexities:  96%|█████████▌| 24/25 [02:52<00:07,  7.17s/model]\n",
      "Calculating Perplexities:  96%|█████████▌| 24/25 [02:46<00:06,  6.95s/model]\n",
      "Calculating Perplexities:  96%|█████████▌| 24/25 [02:44<00:06,  6.87s/model]\n",
      "Calculating Perplexities:  96%|█████████▌| 24/25 [02:40<00:06,  6.69s/model]\n",
      "Calculating Perplexities:  96%|█████████▌| 24/25 [02:33<00:06,  6.39s/model]\n",
      "Calculating Perplexities:  96%|█████████▌| 24/25 [02:33<00:06,  6.40s/model]\n",
      "Calculating Perplexities:  96%|█████████▌| 24/25 [02:23<00:05,  5.99s/model]\n",
      "Calculating Perplexities:  96%|█████████▌| 24/25 [02:22<00:05,  5.93s/model]\n",
      "Calculating Perplexities:  96%|█████████▌| 24/25 [02:23<00:05,  5.98s/model]\n",
      "Calculating Perplexities:  96%|█████████▌| 24/25 [02:17<00:05,  5.71s/model]\n",
      "Calculating Perplexities:  96%|█████████▌| 24/25 [02:11<00:05,  5.49s/model]\n",
      "Calculating Perplexities:  96%|█████████▌| 24/25 [02:05<00:05,  5.22s/model]\n",
      "Calculating Perplexities:  96%|█████████▌| 24/25 [02:02<00:05,  5.11s/model]\n",
      "Calculating Perplexities:  96%|█████████▌| 24/25 [01:56<00:04,  4.86s/model]\n"
     ]
    }
   ],
   "source": [
    "preprocessed_stories_lemmatized = pd.read_csv(\"data/preprocessed_stories_lemmatized.csv\", header=None, names=[\"story\"])\n",
    "# list of 0.01 to 0.15 with step size of 0.01\n",
    "min_df_list = [i/100 for i in range(1, 16)]\n",
    "\n",
    "sets_of_perplexities_lemmatized = [calculate_perplexities(preprocessed_stories_lemmatized[\"story\"], 25, i) for i in min_df_list]\n",
    "\n",
    "pd.DataFrame(sets_of_perplexities_lemmatized).to_csv(\"data/perplexities_set_lemmatized.csv\", index=False, header=False)"
   ]
  },
  {
   "cell_type": "code",
   "execution_count": 10,
   "metadata": {},
   "outputs": [
    {
     "name": "stderr",
     "output_type": "stream",
     "text": [
      "Calculating Perplexities:  96%|█████████▌| 24/25 [02:50<00:07,  7.09s/model]\n",
      "Calculating Perplexities:  96%|█████████▌| 24/25 [02:48<00:07,  7.03s/model]\n",
      "Calculating Perplexities:  96%|█████████▌| 24/25 [02:42<00:06,  6.78s/model]\n",
      "Calculating Perplexities:  96%|█████████▌| 24/25 [02:38<00:06,  6.62s/model]\n",
      "Calculating Perplexities:  96%|█████████▌| 24/25 [02:34<00:06,  6.45s/model]\n",
      "Calculating Perplexities:  96%|█████████▌| 24/25 [02:30<00:06,  6.25s/model]\n",
      "Calculating Perplexities:  96%|█████████▌| 24/25 [02:26<00:06,  6.11s/model]\n",
      "Calculating Perplexities:  96%|█████████▌| 24/25 [02:26<00:06,  6.11s/model]\n",
      "Calculating Perplexities:  96%|█████████▌| 24/25 [02:17<00:05,  5.73s/model]\n",
      "Calculating Perplexities:  96%|█████████▌| 24/25 [02:14<00:05,  5.60s/model]\n",
      "Calculating Perplexities:  96%|█████████▌| 24/25 [02:11<00:05,  5.46s/model]\n",
      "Calculating Perplexities:  96%|█████████▌| 24/25 [02:05<00:05,  5.21s/model]\n",
      "Calculating Perplexities:  96%|█████████▌| 24/25 [02:02<00:05,  5.12s/model]\n",
      "Calculating Perplexities:  96%|█████████▌| 24/25 [01:55<00:04,  4.82s/model]\n",
      "Calculating Perplexities:  96%|█████████▌| 24/25 [01:51<00:04,  4.65s/model]\n"
     ]
    }
   ],
   "source": [
    "preprocessed_stories = pd.read_csv(\"data/preprocessed_stories.csv\", header=None, names=[\"story\"])\n",
    "\n",
    "sets_of_perplexities = [calculate_perplexities(preprocessed_stories[\"story\"], 25, i) for i in min_df_list]\n",
    "\n",
    "pd.DataFrame(sets_of_perplexities).to_csv(\"data/perplexities_set.csv\", index=False, header=False)"
   ]
  },
  {
   "cell_type": "code",
   "execution_count": 155,
   "metadata": {},
   "outputs": [
    {
     "name": "stderr",
     "output_type": "stream",
     "text": [
      "/tmp/ipykernel_16880/768986946.py:22: UserWarning: color is redundantly defined by the 'color' keyword argument and the fmt string \"ro\" (-> color='r'). The keyword argument will take precedence.\n",
      "  plt.plot(min_perplexity_index+2, min_perplexity, 'ro', label=\"n_topics = \" + str(min_perplexity_index+2), color='#FFAA99')\n",
      "/tmp/ipykernel_16880/768986946.py:23: UserWarning: color is redundantly defined by the 'color' keyword argument and the fmt string \"ro\" (-> color='r'). The keyword argument will take precedence.\n",
      "  plt.plot(min_perplexity_lemmatized_index+2, min_perplexity_lemmatized, 'ro', label=\"n_topics = \" + str(min_perplexity_lemmatized_index+2), color='lightblue')\n"
     ]
    },
    {
     "data": {
      "image/png": "[encoded data removed]",
      "text/plain": [
       "<Figure size 640x480 with 1 Axes>"
      ]
     },
     "metadata": {},
     "output_type": "display_data"
    }
   ],
   "source": [
    "import matplotlib.pyplot as plt\n",
    "import numpy as np\n",
    "\n",
    "perplexities = np.array(perplexities)\n",
    "perplexities_lemmatized = np.array(perplexities_lemmatized)\n",
    "\n",
    "min_perplexity = min(perplexities)\n",
    "min_perplexity_index = perplexities.argmin()\n",
    "\n",
    "min_perplexity_lemmatized = min(perplexities_lemmatized)\n",
    "min_perplexity_lemmatized_index = perplexities_lemmatized.argmin()\n",
    "\n",
    "\n",
    "\n",
    "# plot perplexities for lemmatized stories and non-lemmatized stories\n",
    "plt.plot(range(2, 26), perplexities, label=\"Non-lemmatized\", color='#FF9977')\n",
    "plt.plot(range(2, 26), perplexities_lemmatized, label=\"Lemmatized\", color='#99CCFF')\n",
    "plt.xlabel(\"Number of topics\")\n",
    "plt.ylabel(\"Perplexity\")\n",
    "plt.title(\"Perplexity vs Number of topics\")\n",
    "# mark the minimum perplexity\n",
    "plt.plot(min_perplexity_index+2, min_perplexity, 'ro', label=\"n_topics = \" + str(min_perplexity_index+2), color='#FFAA99')\n",
    "plt.plot(min_perplexity_lemmatized_index+2, min_perplexity_lemmatized, 'ro', label=\"n_topics = \" + str(min_perplexity_lemmatized_index+2), color='lightblue')\n",
    "plt.legend()\n",
    "plt.show()\n"
   ]
  }
 ],
 "metadata": {
  "kernelspec": {
   "display_name": "Python 3",
   "language": "python",
   "name": "python3"
  },
  "language_info": {
   "codemirror_mode": {
    "name": "ipython",
    "version": 3
   },
   "file_extension": ".py",
   "mimetype": "text/x-python",
   "name": "python",
   "nbconvert_exporter": "python",
   "pygments_lexer": "ipython3",
   "version": "3.10.6"
  },
  "orig_nbformat": 4
 },
 "nbformat": 4,
 "nbformat_minor": 2
}
