{
 "cells": [
  {
   "cell_type": "code",
   "execution_count": 36,
   "metadata": {},
   "outputs": [
    {
     "name": "stdout",
     "output_type": "stream",
     "text": [
      "Perplexity after iteration 1 (out of 10 iterations) is 1560.72\n",
      "Perplexity after iteration 2 (out of 10 iterations) is 1543.74\n",
      "Perplexity after iteration 3 (out of 10 iterations) is 1524.25\n",
      "Perplexity after iteration 4 (out of 10 iterations) is 1492.46\n",
      "Perplexity after iteration 5 (out of 10 iterations) is 1429.39\n",
      "Perplexity after iteration 6 (out of 10 iterations) is 1362.63\n",
      "Perplexity after iteration 7 (out of 10 iterations) is 1287.35\n",
      "Perplexity after iteration 8 (out of 10 iterations) is 1205.58\n",
      "Perplexity after iteration 9 (out of 10 iterations) is 1124.55\n",
      "Perplexity after iteration 10 (out of 10 iterations) is 1065.03\n"
     ]
    },
    {
     "data": {
      "text/plain": [
       "<jointtsmodel.JST.JST at 0x7fd830f7c970>"
      ]
     },
     "execution_count": 36,
     "metadata": {},
     "output_type": "execute_result"
    }
   ],
   "source": [
    "from jointtsmodel.JST import JST\n",
    "import numpy as np\n",
    "import pandas as pd\n",
    "from sklearn.feature_extraction.text import CountVectorizer\n",
    "from jointtsmodel.utils import *\n",
    "from nltk.sentiment import SentimentIntensityAnalyzer\n",
    "\n",
    "\n",
    "df = pd.read_csv('data/preprocessed_stories.csv', header=None, names=['story'])\n",
    "\n",
    "CountVectorizer = CountVectorizer(max_features=5000, min_df=0.02, max_df=0.3)\n",
    "X = CountVectorizer.fit_transform(df['story'])\n",
    "vocabulary = CountVectorizer.get_feature_names_out()\n",
    "inv_vocabulary = dict(zip(vocabulary,np.arange(len(vocabulary))))\n",
    "lexicon_data = pd.read_excel('data/prior_sentiment.xlsx')\n",
    "lexicon_data = lexicon_data.dropna()\n",
    "lexicon_dict = dict(zip(lexicon_data['Word'],lexicon_data['Sentiment']))\n",
    "\n",
    "model = JST(n_topic_components=5,n_sentiment_components=2,random_state=123,evaluate_every=1)\n",
    "model.fit(X.toarray(), lexicon_dict)\n"
   ]
  },
  {
   "cell_type": "code",
   "execution_count": 34,
   "metadata": {},
   "outputs": [],
   "source": [
    "top_words = list(model.getTopKWords(vocabulary).values())"
   ]
  },
  {
   "cell_type": "code",
   "execution_count": 37,
   "metadata": {},
   "outputs": [
    {
     "data": {
      "text/plain": [
       "{(1, 1): ['account', 'bank', 'called', 'name', 'phone'],\n",
       " (1, 2): ['police', 'phone', 'card', 'message', 'name'],\n",
       " (2, 1): ['loan', 'money', 'transfer', 'pay', 'whatsapp'],\n",
       " (2, 2): ['phone', 'single', 'name', 'internet', 'called'],\n",
       " (3, 1): ['phone', 'email', 'message', 'name', 'called'],\n",
       " (3, 2): ['single', 'internet', 'phone', 'called', 'hung'],\n",
       " (4, 1): ['account', 'bank', 'money', 'whatsapp', 'loan'],\n",
       " (4, 2): ['money', 'account', 'job', 'website', 'time'],\n",
       " (5, 1): ['money', 'website', 'job', 'account', 'whatsapp'],\n",
       " (5, 2): ['money', 'account', 'job', 'day', 'get']}"
      ]
     },
     "execution_count": 37,
     "metadata": {},
     "output_type": "execute_result"
    }
   ],
   "source": [
    "model.getTopKWords(vocabulary)"
   ]
  }
 ],
 "metadata": {
  "kernelspec": {
   "display_name": "Python 3",
   "language": "python",
   "name": "python3"
  },
  "language_info": {
   "codemirror_mode": {
    "name": "ipython",
    "version": 3
   },
   "file_extension": ".py",
   "mimetype": "text/x-python",
   "name": "python",
   "nbconvert_exporter": "python",
   "pygments_lexer": "ipython3",
   "version": "3.10.6"
  },
  "orig_nbformat": 4
 },
 "nbformat": 4,
 "nbformat_minor": 2
}
