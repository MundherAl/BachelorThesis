{
 "cells": [
  {
   "cell_type": "code",
   "execution_count": 29,
   "metadata": {},
   "outputs": [
    {
     "data": {
      "text/plain": [
       "get_story (generic function with 1 method)"
      ]
     },
     "execution_count": 29,
     "metadata": {},
     "output_type": "execute_result"
    }
   ],
   "source": [
    "using Cascadia\n",
    "using Gumbo\n",
    "using TextAnalysis\n",
    "\n",
    "function fetch_story(url)\n",
    "    request = HTTP.get(url)\n",
    "    body = String(request.body)\n",
    "    return parsehtml(body)\n",
    "end\n",
    "\n",
    "function extract_story_text(parsed_html)\n",
    "    story = eachmatch(Selector(\".lead\"), parsed_html.root)\n",
    "    story_text = string(story[2])\n",
    "    clean_text = remove_html_tags(story_text)\n",
    "    return clean_text\n",
    "end\n",
    "\n",
    "function clean_story_text(story)\n",
    "    return TextAnalysis.remove_whitespace(story)\n",
    "end\n",
    "\n",
    "function get_story(url)\n",
    "    story = fetch_story(url)\n",
    "    story_text = extract_story_text(story)\n",
    "    return clean_story_text(story_text)\n",
    "end"
   ]
  },
  {
   "cell_type": "code",
   "execution_count": 28,
   "metadata": {},
   "outputs": [
    {
     "name": "stdout",
     "output_type": "stream",
     "text": [
      "I accepted a friend request on Facebook because we had a common friend. We chatted on Facebook Messenger and did some basic verification by asking questions, which seemed believable. We then decided to continue the conversation on WhatsApp. This \"friend\" attempted to develop a close relationship by asking personal questions and showing concern for various issues I had. After some time, they asked me to help them with a part-time job they were doing. They claimed that if I didn't assist, it would indicate a lack of sincerity in our friendship. I accepted the request but remained cautious, even though I didn't know much about the background of the job. The task involved processing sales orders for a supposedly reputable company. I was asked to use my own money to purchase items using the product value provided in links sent by the \"company\" through Paynow. To help my friend, I needed to complete a certain number of orders. Initially, the purchase amount was small, around $100. After completing a few orders and being fully reimbursed along with commission, the subsequent orders' amounts quickly ballooned into the thousands. Feeling uncomfortable, I decided to stop paying for the orders. When I raised my concerns about this issue, my \"friend\" began to change their behavior and accused me of not completing the orders intentionally to cause problems for them. They insisted that I fulfill the job due to an alleged contract and threatened that they would face penalties otherwise. Refusing their demands led to them hurling expletives at me and instructing me not to contact them again. I immediately took screenshots of all their details and ceased communication. Fortunately, I didn't lose any money during the process, but my banking details were compromised. I reported the incident to the police. Reflecting on the situation, the scammer was well-prepared in answering various questions and made a concerted effort to build a seemingly sincere relationship. When the time came, they resorted to emotional blackmail and questioned my integrity to manipulate me into assisting them. I urge others to remain vigilant for red flags in their responses, conduct internet searches to verify the information provided, and immediately cease contact to avoid becoming emotionally entangled with scammers, which can result in financial losses."
     ]
    }
   ],
   "source": [
    "story = get_story(\"https://www.scamalert.sg/stories-details/Story-10Jul2023151915PM\")\n",
    "\n",
    "print(story)"
   ]
  }
 ],
 "metadata": {
  "kernelspec": {
   "display_name": "Julia 1.8.5",
   "language": "julia",
   "name": "julia-1.8"
  },
  "language_info": {
   "file_extension": ".jl",
   "mimetype": "application/julia",
   "name": "julia",
   "version": "1.8.5"
  },
  "orig_nbformat": 4
 },
 "nbformat": 4,
 "nbformat_minor": 2
}
