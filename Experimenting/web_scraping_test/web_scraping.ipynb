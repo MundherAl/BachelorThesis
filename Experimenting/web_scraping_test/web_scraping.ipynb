{
 "cells": [
  {
   "cell_type": "code",
   "execution_count": 148,
   "metadata": {},
   "outputs": [
    {
     "data": {
      "text/plain": [
       "Dict{String, Any} with 16 entries:\n",
       "  \"CurrentScam\"           => \"GetStoryListAjax\"\n",
       "  \"YearList\"              => Any[2016, 2017, 2018, 2019, 2020, 2021, 2022, 2023]\n",
       "  \"CurrentPageItemsCount\" => 6\n",
       "  \"CurrentPage\"           => 3\n",
       "  \"TotalPage\"             => 586\n",
       "  \"ScamTypeList\"          => Any[Dict{String, Any}(\"Slug\"=>\"car-rental-scam\", \"…\n",
       "  \"Debug\"                 => nothing\n",
       "  \"SortBy\"                => \"Latest\"\n",
       "  \"ScamTypeValue\"         => nothing\n",
       "  \"CurrentYear\"           => nothing\n",
       "  \"CurrentMonth\"          => nothing\n",
       "  \"ScamTypeUrlName\"       => nothing\n",
       "  \"DisplayDescription\"    => nothing\n",
       "  \"TotalItemsCount\"       => 3515\n",
       "  \"StoryList\"             => Any[Dict{String, Any}(\"Description\"=>\"We chatted o…\n",
       "  \"DisplayTitle\"          => \"Scam Stories\""
      ]
     },
     "execution_count": 148,
     "metadata": {},
     "output_type": "execute_result"
    }
   ],
   "source": [
    "using HTTP\n",
    "using Gumbo\n",
    "using JSON\n",
    "\n",
    "url = \"https://www.scamalert.sg/stories/GetStoryListAjax\"\n",
    "r = HTTP.post(url; body=Dict(\"page\" => \"3\", \"sortBy\" => \"Latest\"))\n",
    "json = JSON.parse(String(r.body))\n",
    "json_result = JSON.parse(json[\"result\"])"
   ]
  },
  {
   "cell_type": "code",
   "execution_count": 158,
   "metadata": {},
   "outputs": [
    {
     "data": {
      "text/plain": [
       "Dict{String, Any} with 16 entries:\n",
       "  \"CurrentScam\"           => \"GetStoryListAjax\"\n",
       "  \"YearList\"              => Any[2016, 2017, 2018, 2019, 2020, 2021, 2022, 2023]\n",
       "  \"CurrentPageItemsCount\" => 6\n",
       "  \"CurrentPage\"           => 1\n",
       "  \"TotalPage\"             => 586\n",
       "  \"ScamTypeList\"          => Any[Dict{String, Any}(\"Slug\"=>\"car-rental-scam\", \"…\n",
       "  \"Debug\"                 => nothing\n",
       "  \"SortBy\"                => \"Latest\"\n",
       "  \"ScamTypeValue\"         => nothing\n",
       "  \"CurrentYear\"           => nothing\n",
       "  \"CurrentMonth\"          => nothing\n",
       "  \"ScamTypeUrlName\"       => nothing\n",
       "  \"DisplayDescription\"    => nothing\n",
       "  \"TotalItemsCount\"       => 3515\n",
       "  \"StoryList\"             => Any[Dict{String, Any}(\"Description\"=>\"The night be…\n",
       "  \"DisplayTitle\"          => \"Scam Stories\""
      ]
     },
     "execution_count": 158,
     "metadata": {},
     "output_type": "execute_result"
    }
   ],
   "source": [
    "function get_stories_by_page(page)\n",
    "    url = \"https://www.scamalert.sg/stories/GetStoryListAjax\"\n",
    "    r = HTTP.post(url; body=Dict(\"page\" => page, \"sortBy\" => \"Latest\"))\n",
    "    json = JSON.parse(String(r.body))\n",
    "    json_result = JSON.parse(json[\"result\"])\n",
    "    return json_result\n",
    "end\n",
    "\n",
    "page_1 = get_stories_by_page(1)"
   ]
  },
  {
   "cell_type": "code",
   "execution_count": 174,
   "metadata": {},
   "outputs": [
    {
     "data": {
      "text/plain": [
       "save_stories_by_page (generic function with 1 method)"
      ]
     },
     "execution_count": 174,
     "metadata": {},
     "output_type": "execute_result"
    }
   ],
   "source": [
    "function save_stories_by_page(story, file_name)\n",
    "    open(file_name, \"w\") do f\n",
    "        write(f, story)\n",
    "    end\n",
    "end"
   ]
  }
 ],
 "metadata": {
  "kernelspec": {
   "display_name": "Julia 1.8.5",
   "language": "julia",
   "name": "julia-1.8"
  },
  "language_info": {
   "file_extension": ".jl",
   "mimetype": "application/julia",
   "name": "julia",
   "version": "1.8.5"
  },
  "orig_nbformat": 4
 },
 "nbformat": 4,
 "nbformat_minor": 2
}
