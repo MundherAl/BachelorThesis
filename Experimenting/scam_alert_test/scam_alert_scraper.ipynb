{
 "cells": [
  {
   "cell_type": "code",
   "execution_count": 2,
   "metadata": {},
   "outputs": [
    {
     "name": "stderr",
     "output_type": "stream",
     "text": [
      "\u001b[32m\u001b[1m    Updating\u001b[22m\u001b[39m registry at `~/.julia/registries/General.toml`\n",
      "\u001b[32m\u001b[1m   Resolving\u001b[22m\u001b[39m package versions...\n",
      "\u001b[32m\u001b[1m  No Changes\u001b[22m\u001b[39m to `~/.julia/environments/v1.8/Project.toml`\n",
      "\u001b[32m\u001b[1m  No Changes\u001b[22m\u001b[39m to `~/.julia/environments/v1.8/Manifest.toml`\n"
     ]
    }
   ],
   "source": [
    "using Pkg\n",
    "Pkg.add(\"JSON3\")"
   ]
  },
  {
   "cell_type": "code",
   "execution_count": 3,
   "metadata": {},
   "outputs": [
    {
     "data": {
      "text/plain": [
       "get_page_of_stories (generic function with 1 method)"
      ]
     },
     "execution_count": 3,
     "metadata": {},
     "output_type": "execute_result"
    }
   ],
   "source": [
    "using HTTP\n",
    "using Gumbo\n",
    "using JSON\n",
    "\n",
    "function get_page_of_stories(page)\n",
    "    url = \"https://www.scamalert.sg/stories/GetStoryListAjax\"\n",
    "    r = HTTP.post(url; body=Dict(\"page\" => page, \"sortBy\" => \"Latest\"))\n",
    "    json = JSON.parse(String(r.body))\n",
    "    json_result = JSON.parse(json[\"result\"])\n",
    "    return json_result\n",
    "end"
   ]
  },
  {
   "cell_type": "code",
   "execution_count": 8,
   "metadata": {},
   "outputs": [
    {
     "data": {
      "text/plain": [
       "Dict{String, Any} with 16 entries:\n",
       "  \"CurrentScam\"           => \"GetStoryListAjax\"\n",
       "  \"YearList\"              => Any[2016, 2017, 2018, 2019, 2020, 2021, 2022, 2023]\n",
       "  \"CurrentPageItemsCount\" => 6\n",
       "  \"CurrentPage\"           => 1\n",
       "  \"TotalPage\"             => 590\n",
       "  \"ScamTypeList\"          => Any[Dict{String, Any}(\"Slug\"=>\"car-rental-scam\", \"…\n",
       "  \"Debug\"                 => nothing\n",
       "  \"SortBy\"                => \"Latest\"\n",
       "  \"ScamTypeValue\"         => nothing\n",
       "  \"CurrentYear\"           => nothing\n",
       "  \"CurrentMonth\"          => nothing\n",
       "  \"ScamTypeUrlName\"       => nothing\n",
       "  \"DisplayDescription\"    => nothing\n",
       "  \"TotalItemsCount\"       => 3536\n",
       "  \"StoryList\"             => Any[Dict{String, Any}(\"Description\"=>\"I accepted a…\n",
       "  \"DisplayTitle\"          => \"Scam Stories\""
      ]
     },
     "execution_count": 8,
     "metadata": {},
     "output_type": "execute_result"
    }
   ],
   "source": [
    "page_1 = get_page_of_stories(1)\n",
    "# page_2 = get_page_of_stories(2)"
   ]
  },
  {
   "cell_type": "code",
   "execution_count": 14,
   "metadata": {},
   "outputs": [
    {
     "data": {
      "text/plain": [
       "1-element Vector{Any}:\n",
       " Dict{String, Any}(\"CurrentScam\" => \"GetStoryListAjax\", \"YearList\" => Any[2016, 2017, 2018, 2019, 2020, 2021, 2022, 2023], \"CurrentPageItemsCount\" => 6, \"CurrentPage\" => 2, \"TotalPage\" => 590, \"ScamTypeList\" => Any[Dict{String, Any}(\"Slug\" => \"car-rental-scam\", \"Name\" => \"Car Rental Scam\"), Dict{String, Any}(\"Slug\" => \"cold-call-supplier-scam\", \"Name\" => \"Cold Call Supplier Scam\"), Dict{String, Any}(\"Slug\" => \"credit-for-sex-scam\", \"Name\" => \"Credit-for-Sex Scam\"), Dict{String, Any}(\"Slug\" => \"cyber-extortion-scam\", \"Name\" => \"Cyber Extortion Scam\"), Dict{String, Any}(\"Slug\" => \"home-room-rental-scam\", \"Name\" => \"Home/Room Rental Scam\"), Dict{String, Any}(\"Slug\" => \"impersonation-scam\", \"Name\" => \"Impersonation Scam\"), Dict{String, Any}(\"Slug\" => \"inheritance-scam\", \"Name\" => \"Inheritance Scam\"), Dict{String, Any}(\"Slug\" => \"internet-love-scam\", \"Name\" => \"Internet Love Scam\"), Dict{String, Any}(\"Slug\" => \"investment-scam\", \"Name\" => \"Investment Scam\"), Dict{String, Any}(\"Slug\" => \"job-scam\", \"Name\" => \"Job Scam\")  …  Dict{String, Any}(\"Slug\" => \"money-mule-scam\", \"Name\" => \"Money Mule Scam\"), Dict{String, Any}(\"Slug\" => \"online-purchase-scam\", \"Name\" => \"Online Purchase Scam\"), Dict{String, Any}(\"Slug\" => \"online-travel-vacation-scam\", \"Name\" => \"Online Travel Vacation Scam\"), Dict{String, Any}(\"Slug\" => \"paypal-email-scam\", \"Name\" => \"PayPal Email Scam\"), Dict{String, Any}(\"Slug\" => \"phishing-scam\", \"Name\" => \"Phishing Scam\"), Dict{String, Any}(\"Slug\" => \"scam-using-wechat\", \"Name\" => \"Scam Using WeChat\"), Dict{String, Any}(\"Slug\" => \"social-media-whatsapp-scam\", \"Name\" => \"Social Media Impersonation / Whatsapp Takeover Scam\"), Dict{String, Any}(\"Slug\" => \"software-update-scam\", \"Name\" => \"Software Update Scam\"), Dict{String, Any}(\"Slug\" => \"spoofed-hacked-email-scam\", \"Name\" => \"Spoofed/Hacked Email Scam\"), Dict{String, Any}(\"Slug\" => \"wangiri-scam\", \"Name\" => \"Wangiri Scam\")], \"Debug\" => nothing, \"SortBy\" => \"Latest\", \"ScamTypeValue\" => nothing, \"CurrentYear\" => nothing…)"
      ]
     },
     "execution_count": 14,
     "metadata": {},
     "output_type": "execute_result"
    }
   ],
   "source": [
    "pages = []\n",
    "push!(pages, page_2)\n",
    "\n"
   ]
  },
  {
   "cell_type": "code",
   "execution_count": 15,
   "metadata": {},
   "outputs": [
    {
     "data": {
      "text/plain": [
       "1-element Vector{Any}:\n",
       " Dict{String, Any}(\"CurrentScam\" => \"GetStoryListAjax\", \"YearList\" => Any[2016, 2017, 2018, 2019, 2020, 2021, 2022, 2023], \"CurrentPageItemsCount\" => 6, \"CurrentPage\" => 2, \"TotalPage\" => 590, \"ScamTypeList\" => Any[Dict{String, Any}(\"Slug\" => \"car-rental-scam\", \"Name\" => \"Car Rental Scam\"), Dict{String, Any}(\"Slug\" => \"cold-call-supplier-scam\", \"Name\" => \"Cold Call Supplier Scam\"), Dict{String, Any}(\"Slug\" => \"credit-for-sex-scam\", \"Name\" => \"Credit-for-Sex Scam\"), Dict{String, Any}(\"Slug\" => \"cyber-extortion-scam\", \"Name\" => \"Cyber Extortion Scam\"), Dict{String, Any}(\"Slug\" => \"home-room-rental-scam\", \"Name\" => \"Home/Room Rental Scam\"), Dict{String, Any}(\"Slug\" => \"impersonation-scam\", \"Name\" => \"Impersonation Scam\"), Dict{String, Any}(\"Slug\" => \"inheritance-scam\", \"Name\" => \"Inheritance Scam\"), Dict{String, Any}(\"Slug\" => \"internet-love-scam\", \"Name\" => \"Internet Love Scam\"), Dict{String, Any}(\"Slug\" => \"investment-scam\", \"Name\" => \"Investment Scam\"), Dict{String, Any}(\"Slug\" => \"job-scam\", \"Name\" => \"Job Scam\")  …  Dict{String, Any}(\"Slug\" => \"money-mule-scam\", \"Name\" => \"Money Mule Scam\"), Dict{String, Any}(\"Slug\" => \"online-purchase-scam\", \"Name\" => \"Online Purchase Scam\"), Dict{String, Any}(\"Slug\" => \"online-travel-vacation-scam\", \"Name\" => \"Online Travel Vacation Scam\"), Dict{String, Any}(\"Slug\" => \"paypal-email-scam\", \"Name\" => \"PayPal Email Scam\"), Dict{String, Any}(\"Slug\" => \"phishing-scam\", \"Name\" => \"Phishing Scam\"), Dict{String, Any}(\"Slug\" => \"scam-using-wechat\", \"Name\" => \"Scam Using WeChat\"), Dict{String, Any}(\"Slug\" => \"social-media-whatsapp-scam\", \"Name\" => \"Social Media Impersonation / Whatsapp Takeover Scam\"), Dict{String, Any}(\"Slug\" => \"software-update-scam\", \"Name\" => \"Software Update Scam\"), Dict{String, Any}(\"Slug\" => \"spoofed-hacked-email-scam\", \"Name\" => \"Spoofed/Hacked Email Scam\"), Dict{String, Any}(\"Slug\" => \"wangiri-scam\", \"Name\" => \"Wangiri Scam\")], \"Debug\" => nothing, \"SortBy\" => \"Latest\", \"ScamTypeValue\" => nothing, \"CurrentYear\" => nothing…)"
      ]
     },
     "execution_count": 15,
     "metadata": {},
     "output_type": "execute_result"
    }
   ],
   "source": [
    "pages"
   ]
  }
 ],
 "metadata": {
  "kernelspec": {
   "display_name": "Julia 1.8.5",
   "language": "julia",
   "name": "julia-1.8"
  },
  "language_info": {
   "file_extension": ".jl",
   "mimetype": "application/julia",
   "name": "julia",
   "version": "1.8.5"
  },
  "orig_nbformat": 4
 },
 "nbformat": 4,
 "nbformat_minor": 2
}
