{
 "cells": [
  {
   "cell_type": "code",
   "execution_count": 76,
   "metadata": {},
   "outputs": [],
   "source": [
    "import pandas as pd"
   ]
  },
  {
   "cell_type": "code",
   "execution_count": 77,
   "metadata": {},
   "outputs": [
    {
     "name": "stderr",
     "output_type": "stream",
     "text": [
      "/tmp/ipykernel_1520/2753078877.py:2: ParserWarning: Falling back to the 'python' engine because the 'c' engine does not support regex separators (separators > 1 char and different from '\\s+' are interpreted as regex); you can avoid this warning by specifying engine='python'.\n",
      "  data = pd.read_csv('data.csv', sep='delimiter')\n"
     ]
    }
   ],
   "source": [
    "# read data\n",
    "data = pd.read_csv('data.csv', sep='delimiter')"
   ]
  },
  {
   "cell_type": "code",
   "execution_count": 78,
   "metadata": {},
   "outputs": [],
   "source": [
    "# Data preprocessing\n",
    "from nltk.corpus import stopwords\n",
    "from nltk.stem.wordnet import WordNetLemmatizer\n",
    "import spellchecker\n",
    "import string\n",
    "\n",
    "stop_words = set(stopwords.words('english')) # set of stopwords\n",
    "exclude = set(string.punctuation) # set of all special characters\n",
    "lemma = WordNetLemmatizer() # lemmatizer\n",
    "\n",
    "def clean(doc):\n",
    "    stop_free = \" \".join([i for i in doc.lower().split() if i not in stop_words])\n",
    "    punc_free = ''.join(ch for ch in stop_free if ch not in exclude)\n",
    "    normalized = \" \".join(lemma.lemmatize(word) for word in punc_free.split())\n",
    "    return normalized\n",
    "\n",
    "preprocessed_data = pd.DataFrame(data.text.apply(clean))"
   ]
  },
  {
   "cell_type": "code",
   "execution_count": 79,
   "metadata": {},
   "outputs": [
    {
     "data": {
      "text/plain": [
       "['hmmm exactly month since scammed still remember exactly 3pm friday walking around shopping mall a girl sent message fb wanted chat me met girl dating site dateinasia specific found actually facebook account site added surprised knew fb kept asking personal thing like do parent do tried find financial support right first time chati knownthat week scami went back shopping mall started chatting her while changed skype chatshe asked alone felt boredand asked video chat said would take clothes same think much attractive girl cam got exposedshe recorded sent youtube link video link friend facebook told want friend see video send money otherwise send friend facebook scared panic completely controlthat pathetic moment felt stupidi lot beggingshe said send money it said always keep word choice believe thatand needed immediately ran western union 535pm send money staff told system close 530pm 5 minute late tried another money shop same send immediately told reason gave another chance send money 9am next day saturday begged again even thought suicide tried calm kept saying always keep word completely lost started think what do what do decided tell police help scammer philippine policeman gave advice send money send money ask more prepared video need move oni went back started search extortion idea scammer wa found similar case say exactly same a girl phil got video asks moneythen found scamsurvivor looked almost immediately online help met firefly slapphappy wayne helped understand scammer patient answer what if but question asked told do strategy deal scammer told everything needed dowhat police tell really hard time first day stayed online scamsurvivors seek help anything happens nothing happened question had helped get hard time thank firefly slaphappy wayne tell explained everything me rf came later helped recovering thank also month survive thanks moderator admin wayne helpi luckyjust 5 minute late western union system closed 5 minute saved money gave time seek police advice find scamsurvivorsi blackmail scammed survive 5 minute like miracle victim reading this still lucky find scamsurviorsthat storyi got scammed survived i sleepy detail added later remember',\n",
       " 'my story similar wayne stumbled clicking funnylinks never heard scambaiting before amazed crazythings ordinary people could get scammer promise cashit appealed sense creativity drama like writing screenplay withthe scammer main character know acting initwe started baiter website never interested inthe yucky factor baiting love scammer used drop loveforum there see read latest wayne pinky bait inawhile chuckle liked safari baiting best mentoringothers interested 4 year ago started lot audiocalls scammer part bait internet radio show toeducate people scammer time got know wayneand pinky better 5 year baiting scammer ready achange wayne asked join another website left helpthe side scam dealing victim ive learned many newthings enjoyed helping recover still baitingmentoring audio call playing fake victim bait stillenjoy drama bait developing new character playing audio improv incold call scammer find good candidate business disruption itsmy comic relieffor hobby enjoy fishing canoing outdoor activitiesi world stubborn cat now anyone want her id gladto donate you must like new wall furniture door orany catscratchable surface love modify look likeroughbarked tree absolutely immune word no screamed atincredible volume water spray staying outside night punishmentsshe need 24hourday constant attention supervision unlike newbornbabies even premie need le watching her like sleep dayand keep awake night feeling may really acat all tasmanian devil',\n",
       " 'so guy reciting story believe happened happen anyone entire world hoping help others avoid scam basically story similar story reading page registered dating site muslimscom quite popular day place currently live in get email nice girl picture time personal email address usually ignore one time contacted one girl personal email kept sending nice email photo hot lady son yet suspicious woman like get anyone want middle town using website make friend people around globe back uploaded photo google turned photo famous romanian model emailed saying know photo please stop writing stop yet another woman came website started chatting normally showing nice photo said life qatar morocco asked skype chat started chat skype asking lot personal stuff told facebook told yes stupidly added her facebook asked alone replied yeah said like sex said doesnt said let go skype video fun thinking making video call go sexy woman taking telling thus did stupidly say moment link lost girl saying give sec cause sister leaving house shut door like 5 minute getting call showing recording me so completely shocked thinking thing cause girl showing name family facebook threatening share video unless pay still shock without thinking went wu wired money kept calling number asking received it cause promised delete wire which believe sec shocked threaten scammer anyways guy replied phone said please open skype hang up minute later got im skype saying got money know life expensive need swearing delete do told promised said yes really need more told realizing guy sorry cant right simply have said come wire said sorry have way happening 7 8 pm later night came back telling guy played video woman taking clothing want believe open skype show myself told look know guy since played back video need said please wire money told have said ok take week try arrange some told promise said week next day bad shape went work long face one person trust tell story called telling man anything happens that tried calm bit day googling term blackmail skype find wonderful website enter live help went back home did found firefly wayne chat room really great job know ever repay help support action done disappear world wide web kept googling full name keep finding website ive registered previously life kept disabling deactivating reached clean search yet clock ticking day passing scammer called five day never picked up matter fact knew timing come start calling managed keep phone switched time happened since 10 day now receive call past three day hoping wont kept thinking lot talking lot guy live help kept advising react eventually reached understanding believe part message wonderful people site trying pas u is scammer cant get hold blackmail you ask question everyday blackmail unless communicate back guess answer obvious he cant option have sending video friend facebook lose opportunity doe use him now get call anytime soon react answering switching phone wont let guy destroy life keep blackmailing forever lose think safer one small advise personal info much exposed day new era social network please everyone always check privacy setting talk people know web think it finally again really thank firefly wayne admins user supported helped come it thanks',\n",
       " 'well begin always considered intelligent cautious person last month although reflection researching reading many story come realise still intelligent perhaps cautious been see really looking love certainly internet came one fateful day received friend request facebook july 2011 handsome man living new york came time lonely getting ok life also close relative one dear terminally ill aggresive brain tumor one pay much attention tell thing wanting hear heard long time flattering took get point allowed fall him kept telling friend let guard down expression love gratitude life came pouring in mid august contract malaysia fell apart day ran money telling item expensive state told money pestering sent small amount said friend helping too next step birthday cough 16 september present showing much webcam pressured despite telling uncomfortable it turned nasty next day woke recieved email three video one line saying how like honey mortified say weekend worst weekend life understatement recieved text message saying long deliver demand video safe him demand 5000 usd money certainly time frame demanded sent money two week later story long one continues emailed friend said good man frustrated normally like that criminal word even got bowel cancer doctor malaysia call middle night telling send 30000 malaysian dollar this threatened video four time stopped contact found romancescam damage done sent considerable sum money much 5000 last week recieved text saying knew reported posted picture scam site funny thing post picture copy cancelled facebook page well story much guess get message hell hope stop soon thank allowing apart forum particular thanks ab rf sent direction hope make difference',\n",
       " 'i go almostbit one fortunate ended feeling like outwitted scammer brand new dating site fact i’ve met several great guy still believe they’re good way meet people you’re cautious met ‘alfred’ matchcom claimed architectconstruction guy built commercial building europe though said lived locally turkey building resort complex within week declared love me remember telling couldn’t say thing got back home met person always somewhat suspicious googled everything told me could never find anything verify thing told me name deceased wife – obituary online unusual name sister ohio company website said down i’ll also admit got caught it week courtship said ipad iphone got fried one employee plugged wrong outlet unable replace turkey needed buy ship one him story seemed plausible even knew correct number apple store turkey i research agreed this sent via usps using global express mail asked send money really reluctant so tried use mule told wouldn’t loan money couldn’t pay employee engineer’s wife sending money engineer would send moneygram 500 pick send money via western union since way meeting work looked nearest moneygram location gave me stopped cv pharmacy picked red phone asked moneygram money me gave tracking number sender’s name confirmed wa asked scam work moneygram told refusing money texted scammer told moneygram phone order i’d try got home meeting got home looked location woman trying send money saw 10 wu within 10 mile city my scammer told weren’t needed relay me called moneygram ask question learned money longer available me it redirected scammer continued pressure send money asked send 4000 via wu might done so googled name financial agent wanted send money to site came r first time id found anything online him proof needed scammer told scammer tried go wu much ask i’d gotten sick parking lot trying it called usps tell ipad iphone i’d sent scammer gave tracking number wanted get back told they’d left country nothing could do ipad iphone reached turkey got stuck custom custom fee 500 scammer called ask would pay it said i’d need set fedex account pay that gave tracking number detailed cost first knew usps sent global package via fedex point scammer option pay fee get package called fedex set account told wanted package returned me told scammer set fedex account working them want know done package left turkey certain couldn’t divert it time confirmed scammer via r got package back 2 3 week went by continued interact scammer since learned form baiting i’d chat try guess old really answer question like old first got cell phone i’d catch lie call them he’d give excuse call silly i’d go along him went scammer found posted r called confront me threatened me gave 24 hour ultimatum 24 hour passed dropped me heard since day got package back feeling victory spent money shipping custom fee phone call nothing spent went scammer sense ‘outwitting’ didn’t end there started saying thing like ‘i love ever know’ ever said once day posted r night talked unconditional love told thing could would make love me disagreed course didn’t yet know posted detail he’d given r end session told loved would ever know me really saying goodbye fantasy didn’t recognize it me ending thing term didn’t need know that…because ipad still transit…and spent next 2 week pretending still hooked this 3 victory scammer first post scammer r three victim found post story enmeshed using name posted thread almostbit2 – yet sent money posting exposed scammer protected her confronted him this knew posted r called confronted me threatened me alot – one tried send 500 relay moneygram refused also victim scammer lose 500 – gave different name send to found post scammer exposed again caringsister – one harder brother woman also scammed found post enough convince scammed unfortunately wasn’t enough sister last knew sent ipad refused believe scammer situation tearing family apart pinky contact person whose photo used scam yet another victim added disclaimer facebook page “just learned criminal going alfred using image scam woman money financially trapped africa malaysia give bastard dime” story long complicated least 4 concurrent victim scammer posting alerted 3 scam impacted other end feel like won got ipad back exposed scammer three victim got say goodbye term scammer didn’t know so benefit his got first taste baiting since then i’ve gone bait mentoring slappy frumpy fun far harry lola cobaiter duckhunter introduced great baiting toy went radio program pinky talk romance scam expect return show fall slappy bluefox talk site i’ve made great friend antiscam community',\n",
       " 'i met stanislav lukashovстанислав лукашов st petersburg russia webcam site model found doctor befriended me made feel special gave personal information photo quit job covinced pay salery got buy car promising come u spend life me course never came deceived manipulated emotion twenty month got send money every month sent 10003000 per month quit job convinced pay salery always told wonderful much loved me always full kind word promise except failed give everything wanted questioned sincerity delivery money always made thing wonderful again somehow made feel like luckiest person world lied told car wrecked beyond repair summer recently found photo car taken october november three supposedly wrecked next spring wanted another car number manipulation intimidation finally convinced give money car professed would stay indefinately regardless money took loan 28000 sent total 42000 week 42000 arrived stanislav said wanted new life would send money back sent bank information disappeared american internet week later found evidence 44000 mercedes c55 amg purchased money scammer stanislav lukashov 20 yr old model student economics 5 foot 8 inch tall 65 kg weight light brown hair bluegray eye st petersburg russia former addressesvladimirski prospect 8 room 52 bakunina st former email lukashovstasgmailcom mysteriously closed trip spain lukashovsmailru email xxx understand right u spend lot f4f working hard tired job funny sum all want make deal you work important thing u could me wake call everu morning make ower frindship clother u spend 2500 month my salary live easy u think friend hi xxx want ask something know not ill ask actually decided move u together want know want too happy hand im leaving russia family friend bduschee know happy want to happy deserve it therefore decision final ill move usa soon 5 month one hand good last 5 month russia friend want get time much get would really cool fun car would spent 5 month happy friend russia they dear me here question know much money have enough would cool new year would give car of course secondhand next new year celebrate left u im selling it even profitable bring money worry power case dear case move u together like u dear',\n",
       " 'i fell hard man called james mare week messaging back forth received message interested getting know me didn’t respond several message later still didn’t finally week sent simple “hi” took opportunity let know wasn’t interested relationship appreciate making friend thing common little know man would become dear anyone ever known little month saying selfemployed engineer china preparing come back states…and hour le live told couldn’t “cash” final paycheck foreign country heading u needed help finish paying ticket state sent copy ticket indicated needed 300 pay off ticket official looking sent picture “home” thing yard etc could doubt reality expression tenderness care melted heart…along loving poetry…and knew much love me red flag throughout pushed aside wanting give benefit doubt friend daughter told scam didn’t want believe them didn’t hear week gotten flight can’t recall why staying hotel charged 285 day 9 day said “papers” taken hotel owners…and subject arrest chinese government allowed heart rather mind decided borrow money this next thing accident way airport killed taxi driver left horrible condition requiring surgery “doctor” sent message unconscious would contact me occur “awake” told believed prayer saved oh yes affirm he too christian i then let know go business office…obviously discus owed finally woke fact scammed money sent final email letting know that checking bank learned could indeed “cash” paycheck order get back “home” never heard again plenty abrupt it didn’t know hideous vile worldwide scam become many unfortunate trusting people fallen victim trap received numerous “friend requests” month since scam people convinced scammer trying reconnect “victim” can’t say much grief me much going time life nothing evil criminal friend understand they’ve never here so attempt share experience…and hopefully find resolve thanks hearing out…aw',\n",
       " 'it 2 year since scam heartbreak heart broken lost 25000 saving started husband 25 year dumped 20 year old asian girl devastated go pain selling home going solicitor unravel super investment move another state find new home could afford whole world turned upside down lonely decided go onto dating site little experience contacted handsome 65 year old man calling jeff thomas said engineer lived sydney willing relocate retire chatted site wanted talk email phone course keen meet face face one day said return malaysia complete railway bridge building malaysian government suggested could fly sydney meet left agreed made arrangement well morning fly phoned saying leave morning problem couldn’t get together content frequent phone call skype typing screen didn’t work email relentless morning lunch afternoon late night wondered could find time suppose building railway bridge sent photo bridge convinced real even though many red flag well couple month problem started firstly said wallet stolen card 70000 cash pay worker must admit comment could fit 70000 wallet ignored me time talking u buying big house travel world together etc etc even marrying returned couple month sent photo sort contract saying going paid 15 million building bridge said wallet stolen card couldn’t get access account pay hotel even said money food wanted send 15000 asap explained retired pensioner would take saving started cry saying would pay back plus going buy 2 million house actually sale town living well sent money complicated story asked sell cottage owned could pay worker money owed gone strike told impossible started become worried one day received phone call called solicitor sydney said able get 200000 together help jeff said wanted travel sydney travel malaysia 200000 strapped body clothes though joke said 5’2 inch would look like michelin man also illegal take much money australia said go jail got mad jeff rang screaming saying didn’t care him finally realised fact didn’t care scam talked daughter talked afp said guy known scam reported police blocked cried heart day couldn’t believe taken man spoke friend made feel even worse saying stupid gullible etc etc couldn’t tell anymore wonderful able talk someone like jan support group still healing good bad day financial security wrecked still healthy',\n",
       " 'i 26 year old old beautiful feeling terrible unfair life right now don’t know happened life 10 may 2017 man sent friend request facebook social networking didn’t care person said ” hi could talk me’ that said fallen love me want take care me want bring heart fully love chatted viber social networking want close relationship me hadn’t doubt that simple think one doesn’t like waste time said nothing money liability even said poor person let know couldn’t get thing nothing special life said doesn’t want it want love me believed word mouth realised joke scammer don’t know lost 50000aud joke scammer tried ask help friend help scammer believed told trust story life said come usa life son 9 year old engineer go turkey job couldn’t pay hotel bill credit card problem turkey’s bank couldn’t withdraw money bank allowed withdraw time said couldn’t help really don’t money said even money buy food myself said would like send credit card help withdraw money australia send money back turkey moneygram said couldn’t australia government allow it become criminal withdraw money card said no ok don’t problem help son hospital treatment injury son broken leg son played another child thought son said okey help him this received email fake company called fairway express company’s email said parcel way come australia parcel sent address detail something happened another email company said pay fee certificate – import export duty permit certificate – diplomatic yellow tag – anti terrorist certificate – united nation clearance bond total fee 15464 euro felt company fake started doubt company make mistake told scammer company fake company said no…i pay fee immediately police open parcel get issue make feel seriously issue tried get money friend sent amount commonwealth bank 2 day late got email company requested sent money need certify document need lawyer course pay fee lawyer total 11646 euro can’t believe imagine pay amount me amount large don’t it scammer know don’t want pay amount said son need treatment doctor must get parcel soonest promised pay back amount get parcel felt son like young brother tried get money friend get parcel doubt scam fraud plan scammer created it don’t know get help recovery money pay back friend help catch scammer want justice reported acorn received automatic reply them believe police don’t want help help another victim like investigate really feel depressed thinking death feeling world good heave god better than don’t know one help me thanks much',\n",
       " 'love trap smat crap… magic transpires controlling puppetmeister… smooth talking stranger convinces part everything have… sucked in pulled tight trapped mind believing right… escape way out…how delicious tasted susceptible spirit conundrum awaiting… explain toxic effect relationship lure tempting easy prey lucky hunter…this one wont go away…stunned like deer headlight bright life stood frozen stiff panicked total fright far beyond reality dangerously so compelled meet expectation subjugated fully threat meted so fell victim pressure command please him master would set onward bound intoxicated state drunk love note promise escape would function like windup doll operate whim said unwittingly without second’s questioning chemical reaction stirring within altered ego id acting way beyond character altered state stage perform drama begin reveled fantasy…i engaging operation involved lover sort partner crime thrill gave interplay drive meet expectation dire circumstance le achievement wanted prove it…that capable worthy candidate mission fascinating seemed part quest ah intrigue… demand made via messenger early sunrise amount already determined like windup doll expressed switched button function day computed set little sleep night before mind entangled rapture dulcet tone love sweet nothingness lighten blow would awaken next morning alarm phone reminding daylight come ready go appearing alert physically mentally paying brunt curse would set usual mission firm zombielike mental state autopilot charged day next drop room delay head brainwashed believing expected me duty great responsibility role understood focus clear mission outlined ordered strapped necessary paraphernalia proving legality activity would sure footing head station address never ventured thanks google ease made better while would connected he master guiding protecting trusting exchange would take place keen see drop completed early within time frame would head bank atm soon cash dispenser open hurry corner withdraw service limit sufficient day operation…and would go hunt next location frequency visit secession drop demand met raised eyebrow among local folk going started ask among circle watchful eye venturing obscure alleyway drop made never actively involved finance banking frequent resort not identification intact would walk confidently announce request nerve steel braced verve him love beau aplomb would state quite plainly egypt india africa china surely detail nextof kin brother sister global union catch on officer here sensed irregularity misdeed visitation frequent closely scheduled sending much one time started query further impending transaction mounting frustration obvious manner flustered fuming madam waiting businesswoman dont keep hanging computer data aflame bright red across page system could detect anomaly existing sending amount where purpose remittance towards end cycle duty fulfilled aversion establishment visitation crept parties’ faces… loathing enter handle request awkwardness façade painfully avoiding address… money drop lost mind didnt realize hoax closeted outside world far long aware harsh reality lurking corridor news received domestic focus rise yen price fish market occasion something import would aired main event like olympics world cup symptom country naivety endemic overly pampered protected precarious position in sadly illinformed ignorant trouble…ah devilish antic await beyond border aware search independently otherwise bastion standard compliancy would hear it lie crux issue never heard romance scam never knew existed though plenty abounds local language beyond finding partner capturing heartthrob never entertained thought seeking partner online never curious service would interested profile mine awoken world severe willing intrepid journey canyon did danger beyond perception well past imagination scam understood conventional sense never scratched surface never sniffed menacing stench… seeking niche society meant cheating way ripping people off taking advantage innocence victim game… fooling unaware coercing mind corrupting affairs…robbing dignity playing fair supposed believe knave fraudulent leaning craving next opportunity cannot blame anyone myself… going punish gullible…my mind weakened trouble don’t look feel pity…i gone beyond superficiality wading way this sometimes stop wince stupid beginning desperate need love unrequited jumped quickly hoop find trap well set up oh god duped please hunter…was satisfying enough hunted bounty end oh enticing ticket escape exit hostile environment grown tired of learnt loathe even hate little sustain contact dear student who occasion made feel brief moment normal real extended kindness generously enough enable firmer footing here selfloathing crept in depression lurked ugly head dignity shattered like finebone china concrete slab naturally led think ‘popup’ solution answer issues…and responded corrupted spirit become transition visible me prevailing remained obscure hidden dear circle distant distracted bound world operation master threat would known sphere possessed occasionally phone would ring gravelly voice would begin ‘you one mine talking about god blessing unite’ may ask purpose money wa save sinking ship secure loot gold piece literally… really hindsight sound bit hyperbolical day age confronted diabolical sense danger approaching rough sea darkening sky foreboding mirage looming wheres money much drop please believe dear stop one deposit one exchange one arrow one cage façade uphold maintaining story keeping faith hold…why do could easily block app withdraw view dont scream head cant… persists heart…there much unfinished business yet tread given all dreaming…a win fall doubt positively eventuate bated breath anticipated outcome fate one drop one deal think feel moneybag dear dont even earn much want turn trick you love keep end deal affront… struggle find solution yet cannot resist constant interruption exists hold strong dont let go… dear god intervene… substance nerve wearing thin… indulge him keep channel alight cost blight letting go standing still promise fulfill doubt it circumstance proven thus far nothing gain affair pleasant ride taken afar delight transpired stunted look answer dismay nothing vacant stare dull lifeless pallor veneer reflected vain overcome dilemma give immediately flee forever option presented hold life perfect accept move on frustratingly vain seek angle sometimes bemusing innermost emotions…temporarily relieving thought racing mind return vicious cycle weathered time must surrender impasse valiantly proceed without disaster prospect foreboding disturbed mind ever confused…pray still sumo yukataclad balancing precariously bicycle ride past oblivious stare world surrounded confusion blare curiosity certain inquisitive glance remind difference existing sit wonder lead me going carry burden much longer concede reprieve offer',\n",
       " 'love trap smat crap… magic transpires controlling puppetmeister… smooth talking stranger convinces part everything have… sucked in pulled tight trapped mind believing right… escape way out…how delicious tasted susceptible spirit conundrum awaiting… explain toxic effect relationship lure tempting easy prey lucky hunter…this one wont go away…stunned like deer headlight bright life stood frozen stiff panicked total fright far beyond reality dangerously so compelled meet expectation subjugated fully threat meted so fell victim pressure command please him master would set onward bound intoxicated state drunk love note promise escape would function like windup doll operate whim said unwittingly without second’s questioning chemical reaction stirring within altered ego id acting way beyond character altered state stage perform drama begin reveled fantasy…i engaging operation involved lover sort partner crime thrill gave interplay drive meet expectation dire circumstance le achievement wanted prove it…that capable worthy candidate mission fascinating seemed part quest ah intrigue… demand made via messenger early sunrise amount already determined like windup doll expressed switched button function day computed set little sleep night before mind entangled rapture dulcet tone love sweet nothingness lighten blow would awaken next morning alarm phone reminding daylight come ready go appearing alert physically mentally paying brunt curse would set usual mission firm zombielike mental state autopilot charged day next drop room delay head brainwashed believing expected me duty great responsibility role understood focus clear mission outlined ordered strapped necessary paraphernalia proving legality activity would sure footing head station address never ventured thanks google ease made better while would connected he master guiding protecting trusting exchange would take place keen see drop completed early within time frame would head bank atm soon cash dispenser open hurry corner withdraw service limit sufficient day operation…and would go hunt next location frequency visit secession drop demand met raised eyebrow among local folk going started ask among circle watchful eye venturing obscure alleyway drop made never actively involved finance banking frequent resort not identification intact would walk confidently announce request nerve steel braced verve him love beau aplomb would state quite plainly egypt india africa china surely detail nextof kin brother sister global union catch on officer here sensed irregularity misdeed visitation frequent closely scheduled sending much one time started query further impending transaction mounting frustration obvious manner flustered fuming madam waiting businesswoman dont keep hanging computer data aflame bright red across page system could detect anomaly existing sending amount where purpose remittance towards end cycle duty fulfilled aversion establishment visitation crept parties’ faces… loathing enter handle request awkwardness façade painfully avoiding address… money drop lost mind didnt realize hoax closeted outside world far long aware harsh reality lurking corridor news received domestic focus rise yen price fish market occasion something import would aired main event like olympics world cup symptom country naivety endemic overly pampered protected precarious position in sadly illinformed ignorant trouble…ah devilish antic await beyond border aware search independently otherwise bastion standard compliancy would hear it lie crux issue never heard romance scam never knew existed though plenty abounds local language beyond finding partner capturing heartthrob never entertained thought seeking partner online never curious service would interested profile mine awoken world severe willing intrepid journey canyon did danger beyond perception well past imagination scam understood conventional sense never scratched surface never sniffed menacing stench… seeking niche society meant cheating way ripping people off taking advantage innocence victim game… fooling unaware coercing mind corrupting affairs…robbing dignity playing fair supposed believe knave fraudulent leaning craving next opportunity cannot blame anyone myself… going punish gullible…my mind weakened trouble don’t look feel pity…i gone beyond superficiality wading way this sometimes stop wince stupid beginning desperate need love unrequited jumped quickly hoop find trap well set up oh god duped please hunter…was satisfying enough hunted bounty end oh enticing ticket escape exit hostile environment grown tired of learnt loathe even hate little sustain contact dear student who occasion made feel brief moment normal real extended kindness generously enough enable firmer footing here selfloathing crept in depression lurked ugly head dignity shattered like finebone china concrete slab naturally led think ‘popup’ solution answer issues…and responded corrupted spirit become transition visible me prevailing remained obscure hidden dear circle distant distracted bound world operation master threat would known sphere possessed occasionally phone would ring gravelly voice would begin ‘you one mine talking about god blessing unite’ may ask purpose money wa save sinking ship secure loot gold piece literally… really hindsight sound bit hyperbolical day age confronted diabolical sense danger approaching rough sea darkening sky foreboding mirage looming wheres money much drop please believe dear stop one deposit one exchange one arrow one cage façade uphold maintaining story keeping faith hold…why do could easily block app withdraw view dont scream head cant… persists heart…there much unfinished business yet tread given all dreaming…a win fall doubt positively eventuate bated breath anticipated outcome fate one drop one deal think feel moneybag dear dont even earn much want turn trick you love keep end deal affront… struggle find solution yet cannot resist constant interruption exists hold strong dont let go… dear god intervene… substance nerve wearing thin… indulge him keep channel alight cost blight letting go standing still promise fulfill doubt it circumstance proven thus far nothing gain affair pleasant ride taken afar delight transpired stunted look answer dismay nothing vacant stare dull lifeless pallor veneer reflected vain overcome dilemma give immediately flee forever option presented hold life perfect accept move on frustratingly vain seek angle sometimes bemusing innermost emotions…temporarily relieving thought racing mind return vicious cycle weathered time must surrender impasse valiantly proceed without disaster prospect foreboding disturbed mind ever confused…pray still sumo yukataclad balancing precariously bicycle ride past oblivious stare world surrounded confusion blare curiosity certain inquisitive glance remind difference existing sit wonder lead me going carry burden much longer concede reprieve offer',\n",
       " 'two year ago late 30 good paying job vast network social life joined online dating platform first time paid service u worth us35 per month serious looking new relationship that mean scammer also paid stay platform soon got message male profile photo indeed first message profile didn’t look overly committing relationship otherwise would put off absolutely zero knowledge romance scam soon suggested chat whatsapp now know early sign scam agreed sent ‘hi’ photo extremely good looking guy almost toogoodtobetrue now know guy photo journalist open instagram account admit thrilled it felt bit weird fact overly talk business run soon started chatting now know scammer claim they’re selfemployed felt weird fact type word quickly now know copying pasting template reply felt selfcentred talking without asking much now know red flag idea romance scam first experience online dating put slight doubt aside went on now know must always trust gut feeling someone week chatted everyday chit chat nothing romantic week later said going europe business trip client trouble there go also going away country holiday two week so two week scam know that’s pulled plan lay scam early stage setting ‘’bond’ creation me europe sent video video ‘him’ finishing morning run routine park ecstatic don’t know many time watched video also found north american accent which go along background provided sent photo message bang sent long email first time passion idea relationship basically sold wrote back honestly open attitudeas imagine scam took place right this point wasn’t love him can’t love someone never met guess hope someday meet soon next morning texted bus saying “did read email it’s urgent” long email need us5000 pay business long story short made quick decision wired money come think need money hospitalization wouldn’t done it think scammed business woman think wanted appear understand business need ego played role here he used nowtooobvious tactic “not anyone else depend you” scammer create situation person world talk to time felt weird again didn’t know tactic went on thought ‘emergency’ averted next day laid another emergency situation continuing last one request money us7500 could believe even told friend scammed doubting one friend scammed different way marriage scam online time thought could scammer also thought would confront come back europe told can’t send money someone never spoken asked call agreed set phone call europe asia 3am first alarmed line jammed noise voice tone completely different video notably sounded like indian north american happy able finally hear voice said “hey sound different” replied something stupid like sound different excited talk me big red flag english real bad confused english bit wobbly text perfect email now know email scripted native english speaker begged money annoyed arrogance forceful attitude now know typical african scammer attitude confused inconsistency accent couldn’t hear clearly noise now know scrambled line late 3am tired anxiety situation didn’t make sense me cry end red flag alarm beeping head gave decided send money next morning next morning went moneygram wire us7500 london 1st remittance extremely upset fact since beginning exhausted him didn’t know this ask say weird spell think mean weren’t control literally first experience ever feel way me went holiday still stuck unrealistic situation europe able come back asia didn’t ask 3rd request holiday now know knew can’t send money particularly lied emptied bank ac gave second thought whether lie protect saving honestly thinking time didn’t want appear money finding excuse much saving holiday chatting whatsapp situation grew gloomier day day sounded depressed day day none made sense started thinking bit idiot red flag way pushed aside thinking maybe sound stressful situation would normal this scammer would confront finally meet think scammer would meet me really don’t know say really never heard type scam all knew friend’s case married guy later turned scammer guess made think least would see later matter situation get worse would get scammed like friend did came back holiday day 1 sent 3rd request time asking fly china sign us17m contract client decided pay can’t fly sick that’s realised scam finance job know money laundering is gasped air realising extent stupidity myself almost unreal think lost us12500 like that didn’t make action knew money laundering attempt thought work police bait out went police station told send case email did waited police contact me took long couldn’t hold 2 week pretending know scammed global criminal syndicate i extensive study online it blocked end contact back still thinking authority catch scammer month later police called filing case officially even went address gave find one profile life there checked local phone number find sim card anyone purchase 711 top up email ip corresponds indonesia nigeria posted information online month later woman live contacted telling approached guy phone number different name told called number different chinese speaking guy picked phone told person asking a white guy there thanked posting scam detail didn’t victim woman contacted same tell experience extremely vulnerable thing never heard encountered life knew conventional scam like happened friend a marriage scam never imagined this perpetrated scamman global criminal syndicate possibly connection bigger crime worse terrorism operation impossible current authority bring down often medium portrait romance scam victim retired lonely woman i late 30 wide network friend social life never thought would one scammer rarely target young people young people usually money old people prone scam hate medium get wrong then don’t truth victimcentric want scandalously portrait u victim money scammer nothing else scammer target men woman gay young old regardless profession educational level long one money think scammed sure tell one asks money unless they’re scammer gut feeling ‘there something wrong himher’ real shouldn’t doubt silly not',\n",
       " 'i scammed 2 year ago dating site feeling bit lonely time name michael stanton told me fell love man believed everything told even though family friend told scam received saving amounting 1600000 worked hard money didn’t hesitate sending money still house car pension l looked back later couldn’t believe done good money would never considered done family wouldn’t talk blamed felt lonely before finished january change bank account credit card phone number one son rang turkey told committed suicide thought would end stopped 2 month one night phone rang 4am caught don’t know ruined life really went solicitor bank police everywhere help australia family supportive helped never forgive inheritance something strange happened month ago got man facebook requesting friend photo really surprised looked like person never reply answered said looked liked man scammed me explained used people’s photo never asked could send copy photo had sent photo sent larger one word said good job shaved moe said terrible thing anyone do']"
      ]
     },
     "execution_count": 79,
     "metadata": {},
     "output_type": "execute_result"
    }
   ],
   "source": [
    "arr = []\n",
    "np_arr = preprocessed_data.to_numpy()\n",
    "\n",
    "for e in np_arr:\n",
    "    arr.append(e[0])\n",
    "\n",
    "arr"
   ]
  },
  {
   "cell_type": "code",
   "execution_count": 80,
   "metadata": {},
   "outputs": [
    {
     "data": {
      "text/plain": [
       "array(['believe', 'could', 'day', 'even', 'friend', 'get', 'got', 'it',\n",
       "       'like', 'me', 'money', 'much', 'one', 'really', 'said', 'scam',\n",
       "       'still', 'time', 'told', 'want', 'would'], dtype=object)"
      ]
     },
     "execution_count": 80,
     "metadata": {},
     "output_type": "execute_result"
    }
   ],
   "source": [
    "from sklearn.feature_extraction.text import CountVectorizer\n",
    "\n",
    "vectorizer = CountVectorizer(min_df=10)\n",
    "X = vectorizer.fit_transform(arr)\n",
    "\n",
    "feature_names = vectorizer.get_feature_names_out()\n",
    "feature_names"
   ]
  },
  {
   "cell_type": "code",
   "execution_count": 81,
   "metadata": {},
   "outputs": [
    {
     "data": {
      "text/html": [
       "<style>#sk-container-id-5 {color: black;background-color: white;}#sk-container-id-5 pre{padding: 0;}#sk-container-id-5 div.sk-toggleable {background-color: white;}#sk-container-id-5 label.sk-toggleable__label {cursor: pointer;display: block;width: 100%;margin-bottom: 0;padding: 0.3em;box-sizing: border-box;text-align: center;}#sk-container-id-5 label.sk-toggleable__label-arrow:before {content: \"▸\";float: left;margin-right: 0.25em;color: #696969;}#sk-container-id-5 label.sk-toggleable__label-arrow:hover:before {color: black;}#sk-container-id-5 div.sk-estimator:hover label.sk-toggleable__label-arrow:before {color: black;}#sk-container-id-5 div.sk-toggleable__content {max-height: 0;max-width: 0;overflow: hidden;text-align: left;background-color: #f0f8ff;}#sk-container-id-5 div.sk-toggleable__content pre {margin: 0.2em;color: black;border-radius: 0.25em;background-color: #f0f8ff;}#sk-container-id-5 input.sk-toggleable__control:checked~div.sk-toggleable__content {max-height: 200px;max-width: 100%;overflow: auto;}#sk-container-id-5 input.sk-toggleable__control:checked~label.sk-toggleable__label-arrow:before {content: \"▾\";}#sk-container-id-5 div.sk-estimator input.sk-toggleable__control:checked~label.sk-toggleable__label {background-color: #d4ebff;}#sk-container-id-5 div.sk-label input.sk-toggleable__control:checked~label.sk-toggleable__label {background-color: #d4ebff;}#sk-container-id-5 input.sk-hidden--visually {border: 0;clip: rect(1px 1px 1px 1px);clip: rect(1px, 1px, 1px, 1px);height: 1px;margin: -1px;overflow: hidden;padding: 0;position: absolute;width: 1px;}#sk-container-id-5 div.sk-estimator {font-family: monospace;background-color: #f0f8ff;border: 1px dotted black;border-radius: 0.25em;box-sizing: border-box;margin-bottom: 0.5em;}#sk-container-id-5 div.sk-estimator:hover {background-color: #d4ebff;}#sk-container-id-5 div.sk-parallel-item::after {content: \"\";width: 100%;border-bottom: 1px solid gray;flex-grow: 1;}#sk-container-id-5 div.sk-label:hover label.sk-toggleable__label {background-color: #d4ebff;}#sk-container-id-5 div.sk-serial::before {content: \"\";position: absolute;border-left: 1px solid gray;box-sizing: border-box;top: 0;bottom: 0;left: 50%;z-index: 0;}#sk-container-id-5 div.sk-serial {display: flex;flex-direction: column;align-items: center;background-color: white;padding-right: 0.2em;padding-left: 0.2em;position: relative;}#sk-container-id-5 div.sk-item {position: relative;z-index: 1;}#sk-container-id-5 div.sk-parallel {display: flex;align-items: stretch;justify-content: center;background-color: white;position: relative;}#sk-container-id-5 div.sk-item::before, #sk-container-id-5 div.sk-parallel-item::before {content: \"\";position: absolute;border-left: 1px solid gray;box-sizing: border-box;top: 0;bottom: 0;left: 50%;z-index: -1;}#sk-container-id-5 div.sk-parallel-item {display: flex;flex-direction: column;z-index: 1;position: relative;background-color: white;}#sk-container-id-5 div.sk-parallel-item:first-child::after {align-self: flex-end;width: 50%;}#sk-container-id-5 div.sk-parallel-item:last-child::after {align-self: flex-start;width: 50%;}#sk-container-id-5 div.sk-parallel-item:only-child::after {width: 0;}#sk-container-id-5 div.sk-dashed-wrapped {border: 1px dashed gray;margin: 0 0.4em 0.5em 0.4em;box-sizing: border-box;padding-bottom: 0.4em;background-color: white;}#sk-container-id-5 div.sk-label label {font-family: monospace;font-weight: bold;display: inline-block;line-height: 1.2em;}#sk-container-id-5 div.sk-label-container {text-align: center;}#sk-container-id-5 div.sk-container {/* jupyter's `normalize.less` sets `[hidden] { display: none; }` but bootstrap.min.css set `[hidden] { display: none !important; }` so we also need the `!important` here to be able to override the default hidden behavior on the sphinx rendered scikit-learn.org. See: https://github.com/scikit-learn/scikit-learn/issues/21755 */display: inline-block !important;position: relative;}#sk-container-id-5 div.sk-text-repr-fallback {display: none;}</style><div id=\"sk-container-id-5\" class=\"sk-top-container\"><div class=\"sk-text-repr-fallback\"><pre>LatentDirichletAllocation(n_components=3, random_state=0)</pre><b>In a Jupyter environment, please rerun this cell to show the HTML representation or trust the notebook. <br />On GitHub, the HTML representation is unable to render, please try loading this page with nbviewer.org.</b></div><div class=\"sk-container\" hidden><div class=\"sk-item\"><div class=\"sk-estimator sk-toggleable\"><input class=\"sk-toggleable__control sk-hidden--visually\" id=\"sk-estimator-id-5\" type=\"checkbox\" checked><label for=\"sk-estimator-id-5\" class=\"sk-toggleable__label sk-toggleable__label-arrow\">LatentDirichletAllocation</label><div class=\"sk-toggleable__content\"><pre>LatentDirichletAllocation(n_components=3, random_state=0)</pre></div></div></div></div></div>"
      ],
      "text/plain": [
       "LatentDirichletAllocation(n_components=3, random_state=0)"
      ]
     },
     "execution_count": 81,
     "metadata": {},
     "output_type": "execute_result"
    }
   ],
   "source": [
    "from sklearn.decomposition import LatentDirichletAllocation\n",
    "\n",
    "number_of_topics = 3\n",
    "\n",
    "model = LatentDirichletAllocation(n_components=number_of_topics, random_state=0)\n",
    "\n",
    "model.fit(X.toarray())"
   ]
  },
  {
   "cell_type": "code",
   "execution_count": 82,
   "metadata": {},
   "outputs": [
    {
     "data": {
      "text/html": [
       "<div>\n",
       "<style scoped>\n",
       "    .dataframe tbody tr th:only-of-type {\n",
       "        vertical-align: middle;\n",
       "    }\n",
       "\n",
       "    .dataframe tbody tr th {\n",
       "        vertical-align: top;\n",
       "    }\n",
       "\n",
       "    .dataframe thead th {\n",
       "        text-align: right;\n",
       "    }\n",
       "</style>\n",
       "<table border=\"1\" class=\"dataframe\">\n",
       "  <thead>\n",
       "    <tr style=\"text-align: right;\">\n",
       "      <th></th>\n",
       "      <th>Topic 0 words</th>\n",
       "      <th>Topic 0 weights</th>\n",
       "      <th>Topic 1 words</th>\n",
       "      <th>Topic 1 weights</th>\n",
       "      <th>Topic 2 words</th>\n",
       "      <th>Topic 2 weights</th>\n",
       "    </tr>\n",
       "  </thead>\n",
       "  <tbody>\n",
       "    <tr>\n",
       "      <th>0</th>\n",
       "      <td>would</td>\n",
       "      <td>47.9</td>\n",
       "      <td>still</td>\n",
       "      <td>0.3</td>\n",
       "      <td>money</td>\n",
       "      <td>65.3</td>\n",
       "    </tr>\n",
       "    <tr>\n",
       "      <th>1</th>\n",
       "      <td>one</td>\n",
       "      <td>32.5</td>\n",
       "      <td>even</td>\n",
       "      <td>0.3</td>\n",
       "      <td>said</td>\n",
       "      <td>45.3</td>\n",
       "    </tr>\n",
       "    <tr>\n",
       "      <th>2</th>\n",
       "      <td>day</td>\n",
       "      <td>22.0</td>\n",
       "      <td>like</td>\n",
       "      <td>0.3</td>\n",
       "      <td>me</td>\n",
       "      <td>42.3</td>\n",
       "    </tr>\n",
       "    <tr>\n",
       "      <th>3</th>\n",
       "      <td>like</td>\n",
       "      <td>19.5</td>\n",
       "      <td>could</td>\n",
       "      <td>0.3</td>\n",
       "      <td>told</td>\n",
       "      <td>42.2</td>\n",
       "    </tr>\n",
       "    <tr>\n",
       "      <th>4</th>\n",
       "      <td>much</td>\n",
       "      <td>17.4</td>\n",
       "      <td>really</td>\n",
       "      <td>0.3</td>\n",
       "      <td>friend</td>\n",
       "      <td>31.6</td>\n",
       "    </tr>\n",
       "    <tr>\n",
       "      <th>5</th>\n",
       "      <td>time</td>\n",
       "      <td>15.4</td>\n",
       "      <td>time</td>\n",
       "      <td>0.3</td>\n",
       "      <td>got</td>\n",
       "      <td>25.2</td>\n",
       "    </tr>\n",
       "    <tr>\n",
       "      <th>6</th>\n",
       "      <td>scam</td>\n",
       "      <td>13.7</td>\n",
       "      <td>want</td>\n",
       "      <td>0.3</td>\n",
       "      <td>get</td>\n",
       "      <td>24.3</td>\n",
       "    </tr>\n",
       "    <tr>\n",
       "      <th>7</th>\n",
       "      <td>money</td>\n",
       "      <td>12.3</td>\n",
       "      <td>much</td>\n",
       "      <td>0.3</td>\n",
       "      <td>want</td>\n",
       "      <td>21.6</td>\n",
       "    </tr>\n",
       "    <tr>\n",
       "      <th>8</th>\n",
       "      <td>said</td>\n",
       "      <td>11.4</td>\n",
       "      <td>get</td>\n",
       "      <td>0.3</td>\n",
       "      <td>scam</td>\n",
       "      <td>21.0</td>\n",
       "    </tr>\n",
       "    <tr>\n",
       "      <th>9</th>\n",
       "      <td>could</td>\n",
       "      <td>11.1</td>\n",
       "      <td>day</td>\n",
       "      <td>0.3</td>\n",
       "      <td>it</td>\n",
       "      <td>20.1</td>\n",
       "    </tr>\n",
       "    <tr>\n",
       "      <th>10</th>\n",
       "      <td>even</td>\n",
       "      <td>11.1</td>\n",
       "      <td>believe</td>\n",
       "      <td>0.3</td>\n",
       "      <td>time</td>\n",
       "      <td>19.3</td>\n",
       "    </tr>\n",
       "    <tr>\n",
       "      <th>11</th>\n",
       "      <td>it</td>\n",
       "      <td>9.6</td>\n",
       "      <td>friend</td>\n",
       "      <td>0.3</td>\n",
       "      <td>like</td>\n",
       "      <td>19.2</td>\n",
       "    </tr>\n",
       "    <tr>\n",
       "      <th>12</th>\n",
       "      <td>still</td>\n",
       "      <td>8.8</td>\n",
       "      <td>scam</td>\n",
       "      <td>0.3</td>\n",
       "      <td>day</td>\n",
       "      <td>14.6</td>\n",
       "    </tr>\n",
       "    <tr>\n",
       "      <th>13</th>\n",
       "      <td>me</td>\n",
       "      <td>8.3</td>\n",
       "      <td>one</td>\n",
       "      <td>0.3</td>\n",
       "      <td>really</td>\n",
       "      <td>14.5</td>\n",
       "    </tr>\n",
       "    <tr>\n",
       "      <th>14</th>\n",
       "      <td>believe</td>\n",
       "      <td>6.9</td>\n",
       "      <td>said</td>\n",
       "      <td>0.3</td>\n",
       "      <td>one</td>\n",
       "      <td>14.2</td>\n",
       "    </tr>\n",
       "  </tbody>\n",
       "</table>\n",
       "</div>"
      ],
      "text/plain": [
       "   Topic 0 words Topic 0 weights Topic 1 words Topic 1 weights Topic 2 words  \\\n",
       "0          would            47.9         still             0.3         money   \n",
       "1            one            32.5          even             0.3          said   \n",
       "2            day            22.0          like             0.3            me   \n",
       "3           like            19.5         could             0.3          told   \n",
       "4           much            17.4        really             0.3        friend   \n",
       "5           time            15.4          time             0.3           got   \n",
       "6           scam            13.7          want             0.3           get   \n",
       "7          money            12.3          much             0.3          want   \n",
       "8           said            11.4           get             0.3          scam   \n",
       "9          could            11.1           day             0.3            it   \n",
       "10          even            11.1       believe             0.3          time   \n",
       "11            it             9.6        friend             0.3          like   \n",
       "12         still             8.8          scam             0.3           day   \n",
       "13            me             8.3           one             0.3        really   \n",
       "14       believe             6.9          said             0.3           one   \n",
       "\n",
       "   Topic 2 weights  \n",
       "0             65.3  \n",
       "1             45.3  \n",
       "2             42.3  \n",
       "3             42.2  \n",
       "4             31.6  \n",
       "5             25.2  \n",
       "6             24.3  \n",
       "7             21.6  \n",
       "8             21.0  \n",
       "9             20.1  \n",
       "10            19.3  \n",
       "11            19.2  \n",
       "12            14.6  \n",
       "13            14.5  \n",
       "14            14.2  "
      ]
     },
     "execution_count": 82,
     "metadata": {},
     "output_type": "execute_result"
    }
   ],
   "source": [
    "def display_topics(model, feature_names, no_top_words):\n",
    "    topic_dict = {}\n",
    "    for topic_idx, topic in enumerate(model.components_):\n",
    "        topic_dict[\"Topic %d words\" % (topic_idx)]= ['{}'.format(feature_names[i])\n",
    "                        for i in topic.argsort()[:-no_top_words - 1:-1]]\n",
    "        topic_dict[\"Topic %d weights\" % (topic_idx)]= ['{:.1f}'.format(topic[i])\n",
    "                        for i in topic.argsort()[:-no_top_words - 1:-1]]\n",
    "    return pd.DataFrame(topic_dict)\n",
    "\n",
    "display_topics(model, feature_names, 15)"
   ]
  }
 ],
 "metadata": {
  "kernelspec": {
   "display_name": "Python 3",
   "language": "python",
   "name": "python3"
  },
  "language_info": {
   "codemirror_mode": {
    "name": "ipython",
    "version": 3
   },
   "file_extension": ".py",
   "mimetype": "text/x-python",
   "name": "python",
   "nbconvert_exporter": "python",
   "pygments_lexer": "ipython3",
   "version": "3.10.6"
  },
  "orig_nbformat": 4
 },
 "nbformat": 4,
 "nbformat_minor": 2
}
