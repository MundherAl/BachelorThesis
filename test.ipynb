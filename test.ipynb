{
 "cells": [
  {
   "cell_type": "code",
   "execution_count": 15,
   "metadata": {},
   "outputs": [
    {
     "name": "stdout",
     "output_type": "stream",
     "text": [
      "{'neg': 0.325, 'neu': 0.675, 'pos': 0.0, 'compound': -0.3412}\n",
      "{'neg': 0.429, 'neu': 0.571, 'pos': 0.0, 'compound': -0.4588}\n",
      "{'neg': 0.483, 'neu': 0.517, 'pos': 0.0, 'compound': -0.5766}\n",
      "{'neg': 0.535, 'neu': 0.465, 'pos': 0.0, 'compound': -0.6817}\n"
     ]
    }
   ],
   "source": [
    "from vaderSentiment.vaderSentiment import SentimentIntensityAnalyzer as SIA\n",
    "from nltk.sentiment.vader import SentimentIntensityAnalyzer as SIA2\n",
    "\n",
    "vader = SIA()\n",
    "nltk = SIA2()\n",
    "\n",
    "print(vader.polarity_scores(\"I didn't feel good about it.\"))\n",
    "print(vader.polarity_scores(\"I felt awful about it.\"))\n",
    "print(vader.polarity_scores(\"I felt AWFUL about it.\"))\n",
    "print(vader.polarity_scores(\"I felt AWFUL about it!!!\"))"
   ]
  }
 ],
 "metadata": {
  "kernelspec": {
   "display_name": "Python 3",
   "language": "python",
   "name": "python3"
  },
  "language_info": {
   "codemirror_mode": {
    "name": "ipython",
    "version": 3
   },
   "file_extension": ".py",
   "mimetype": "text/x-python",
   "name": "python",
   "nbconvert_exporter": "python",
   "pygments_lexer": "ipython3",
   "version": "3.10.6"
  },
  "orig_nbformat": 4
 },
 "nbformat": 4,
 "nbformat_minor": 2
}
